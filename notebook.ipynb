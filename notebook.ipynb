{
 "cells": [
  {
   "cell_type": "code",
   "execution_count": 1,
   "metadata": {},
   "outputs": [
    {
     "name": "stderr",
     "output_type": "stream",
     "text": [
      "C:\\Users\\ASUS\\anaconda3\\lib\\site-packages\\pandas\\core\\computation\\expressions.py:20: UserWarning: Pandas requires version '2.7.3' or newer of 'numexpr' (version '2.7.1' currently installed).\n",
      "  from pandas.core.computation.check import NUMEXPR_INSTALLED\n"
     ]
    }
   ],
   "source": [
    "# Importing necessary packages\n",
    "\n",
    "import pandas as pd\n",
    "import numpy as np\n",
    "import matplotlib.pyplot as plt\n",
    "import seaborn as sns\n",
    "\n",
    "import warnings\n",
    "warnings.simplefilter(\"ignore\")\n",
    "\n",
    "# Visualization style\n",
    "sns.set_style('whitegrid')\n",
    "plt.style.use('fivethirtyeight')"
   ]
  },
  {
   "cell_type": "markdown",
   "metadata": {},
   "source": [
    "# Data Overview"
   ]
  },
  {
   "cell_type": "code",
   "execution_count": 2,
   "metadata": {},
   "outputs": [],
   "source": [
    "df = pd.read_csv('Dataset1_TranscriptMahasiswa.csv', delimiter = ';')"
   ]
  },
  {
   "cell_type": "code",
   "execution_count": 3,
   "metadata": {},
   "outputs": [
    {
     "data": {
      "text/html": [
       "<div>\n",
       "<style scoped>\n",
       "    .dataframe tbody tr th:only-of-type {\n",
       "        vertical-align: middle;\n",
       "    }\n",
       "\n",
       "    .dataframe tbody tr th {\n",
       "        vertical-align: top;\n",
       "    }\n",
       "\n",
       "    .dataframe thead th {\n",
       "        text-align: right;\n",
       "    }\n",
       "</style>\n",
       "<table border=\"1\" class=\"dataframe\">\n",
       "  <thead>\n",
       "    <tr style=\"text-align: right;\">\n",
       "      <th></th>\n",
       "      <th>NIM</th>\n",
       "      <th>ANGKATAN</th>\n",
       "      <th>SEMESTER</th>\n",
       "      <th>KODE_MK</th>\n",
       "      <th>NAMA_MK</th>\n",
       "      <th>SKS</th>\n",
       "      <th>NILAI</th>\n",
       "      <th>GRADE</th>\n",
       "    </tr>\n",
       "  </thead>\n",
       "  <tbody>\n",
       "    <tr>\n",
       "      <th>0</th>\n",
       "      <td>10110310002</td>\n",
       "      <td>2010</td>\n",
       "      <td>1011</td>\n",
       "      <td>EM100</td>\n",
       "      <td>EM100 Dasar-dasar Bisnis</td>\n",
       "      <td>3</td>\n",
       "      <td>57.0</td>\n",
       "      <td>C</td>\n",
       "    </tr>\n",
       "    <tr>\n",
       "      <th>1</th>\n",
       "      <td>10110310002</td>\n",
       "      <td>2010</td>\n",
       "      <td>1011</td>\n",
       "      <td>EM180</td>\n",
       "      <td>EM180 Matematika Bisnis</td>\n",
       "      <td>3</td>\n",
       "      <td>70.0</td>\n",
       "      <td>B</td>\n",
       "    </tr>\n",
       "    <tr>\n",
       "      <th>2</th>\n",
       "      <td>10110310002</td>\n",
       "      <td>2010</td>\n",
       "      <td>1011</td>\n",
       "      <td>TI100</td>\n",
       "      <td>TI100 Algoritma dan Pemrograman</td>\n",
       "      <td>4</td>\n",
       "      <td>57.0</td>\n",
       "      <td>C</td>\n",
       "    </tr>\n",
       "    <tr>\n",
       "      <th>3</th>\n",
       "      <td>10110310002</td>\n",
       "      <td>2010</td>\n",
       "      <td>1011</td>\n",
       "      <td>TI101</td>\n",
       "      <td>TI101 Matematika Diskrit</td>\n",
       "      <td>3</td>\n",
       "      <td>59.0</td>\n",
       "      <td>C</td>\n",
       "    </tr>\n",
       "    <tr>\n",
       "      <th>4</th>\n",
       "      <td>10110310002</td>\n",
       "      <td>2010</td>\n",
       "      <td>1011</td>\n",
       "      <td>TI110</td>\n",
       "      <td>TI110 Pengantar Teknologi Multimedia</td>\n",
       "      <td>3</td>\n",
       "      <td>74.0</td>\n",
       "      <td>B</td>\n",
       "    </tr>\n",
       "  </tbody>\n",
       "</table>\n",
       "</div>"
      ],
      "text/plain": [
       "           NIM  ANGKATAN  SEMESTER KODE_MK  \\\n",
       "0  10110310002      2010      1011   EM100   \n",
       "1  10110310002      2010      1011   EM180   \n",
       "2  10110310002      2010      1011   TI100   \n",
       "3  10110310002      2010      1011   TI101   \n",
       "4  10110310002      2010      1011   TI110   \n",
       "\n",
       "                                NAMA_MK  SKS  NILAI GRADE  \n",
       "0              EM100 Dasar-dasar Bisnis    3   57.0     C  \n",
       "1               EM180 Matematika Bisnis    3   70.0     B  \n",
       "2       TI100 Algoritma dan Pemrograman    4   57.0     C  \n",
       "3              TI101 Matematika Diskrit    3   59.0     C  \n",
       "4  TI110 Pengantar Teknologi Multimedia    3   74.0     B  "
      ]
     },
     "execution_count": 3,
     "metadata": {},
     "output_type": "execute_result"
    }
   ],
   "source": [
    "df.head()"
   ]
  },
  {
   "cell_type": "code",
   "execution_count": 4,
   "metadata": {},
   "outputs": [
    {
     "data": {
      "text/plain": [
       "(30870, 8)"
      ]
     },
     "execution_count": 4,
     "metadata": {},
     "output_type": "execute_result"
    }
   ],
   "source": [
    "df.shape"
   ]
  },
  {
   "cell_type": "code",
   "execution_count": 5,
   "metadata": {},
   "outputs": [
    {
     "name": "stdout",
     "output_type": "stream",
     "text": [
      "<class 'pandas.core.frame.DataFrame'>\n",
      "RangeIndex: 30870 entries, 0 to 30869\n",
      "Data columns (total 8 columns):\n",
      " #   Column    Non-Null Count  Dtype  \n",
      "---  ------    --------------  -----  \n",
      " 0   NIM       30870 non-null  int64  \n",
      " 1   ANGKATAN  30870 non-null  int64  \n",
      " 2   SEMESTER  30870 non-null  int64  \n",
      " 3   KODE_MK   30870 non-null  object \n",
      " 4   NAMA_MK   30847 non-null  object \n",
      " 5   SKS       30870 non-null  int64  \n",
      " 6   NILAI     30858 non-null  float64\n",
      " 7   GRADE     30318 non-null  object \n",
      "dtypes: float64(1), int64(4), object(3)\n",
      "memory usage: 1.9+ MB\n"
     ]
    }
   ],
   "source": [
    "df.info()"
   ]
  },
  {
   "cell_type": "code",
   "execution_count": 6,
   "metadata": {},
   "outputs": [],
   "source": [
    "# we are going to change the datatype of 'NIM', 'ANGKATAN', and 'SEMESTER' to str\n",
    "df['NIM'] = df['NIM'].astype('str')\n",
    "df['ANGKATAN'] = df['ANGKATAN'].astype('str')\n",
    "df['SEMESTER'] = df['SEMESTER'].astype('str')"
   ]
  },
  {
   "cell_type": "code",
   "execution_count": 7,
   "metadata": {},
   "outputs": [
    {
     "name": "stdout",
     "output_type": "stream",
     "text": [
      "<class 'pandas.core.frame.DataFrame'>\n",
      "RangeIndex: 30870 entries, 0 to 30869\n",
      "Data columns (total 8 columns):\n",
      " #   Column    Non-Null Count  Dtype  \n",
      "---  ------    --------------  -----  \n",
      " 0   NIM       30870 non-null  object \n",
      " 1   ANGKATAN  30870 non-null  object \n",
      " 2   SEMESTER  30870 non-null  object \n",
      " 3   KODE_MK   30870 non-null  object \n",
      " 4   NAMA_MK   30847 non-null  object \n",
      " 5   SKS       30870 non-null  int64  \n",
      " 6   NILAI     30858 non-null  float64\n",
      " 7   GRADE     30318 non-null  object \n",
      "dtypes: float64(1), int64(1), object(6)\n",
      "memory usage: 1.9+ MB\n"
     ]
    }
   ],
   "source": [
    "df.info()"
   ]
  },
  {
   "cell_type": "code",
   "execution_count": 8,
   "metadata": {},
   "outputs": [
    {
     "data": {
      "text/html": [
       "<div>\n",
       "<style scoped>\n",
       "    .dataframe tbody tr th:only-of-type {\n",
       "        vertical-align: middle;\n",
       "    }\n",
       "\n",
       "    .dataframe tbody tr th {\n",
       "        vertical-align: top;\n",
       "    }\n",
       "\n",
       "    .dataframe thead th {\n",
       "        text-align: right;\n",
       "    }\n",
       "</style>\n",
       "<table border=\"1\" class=\"dataframe\">\n",
       "  <thead>\n",
       "    <tr style=\"text-align: right;\">\n",
       "      <th></th>\n",
       "      <th>SKS</th>\n",
       "      <th>NILAI</th>\n",
       "    </tr>\n",
       "  </thead>\n",
       "  <tbody>\n",
       "    <tr>\n",
       "      <th>count</th>\n",
       "      <td>30870.000000</td>\n",
       "      <td>30858.000000</td>\n",
       "    </tr>\n",
       "    <tr>\n",
       "      <th>mean</th>\n",
       "      <td>2.838063</td>\n",
       "      <td>74.357930</td>\n",
       "    </tr>\n",
       "    <tr>\n",
       "      <th>std</th>\n",
       "      <td>0.564980</td>\n",
       "      <td>15.650969</td>\n",
       "    </tr>\n",
       "    <tr>\n",
       "      <th>min</th>\n",
       "      <td>2.000000</td>\n",
       "      <td>0.000000</td>\n",
       "    </tr>\n",
       "    <tr>\n",
       "      <th>25%</th>\n",
       "      <td>3.000000</td>\n",
       "      <td>66.000000</td>\n",
       "    </tr>\n",
       "    <tr>\n",
       "      <th>50%</th>\n",
       "      <td>3.000000</td>\n",
       "      <td>74.000000</td>\n",
       "    </tr>\n",
       "    <tr>\n",
       "      <th>75%</th>\n",
       "      <td>3.000000</td>\n",
       "      <td>85.000000</td>\n",
       "    </tr>\n",
       "    <tr>\n",
       "      <th>max</th>\n",
       "      <td>6.000000</td>\n",
       "      <td>100.000000</td>\n",
       "    </tr>\n",
       "  </tbody>\n",
       "</table>\n",
       "</div>"
      ],
      "text/plain": [
       "                SKS         NILAI\n",
       "count  30870.000000  30858.000000\n",
       "mean       2.838063     74.357930\n",
       "std        0.564980     15.650969\n",
       "min        2.000000      0.000000\n",
       "25%        3.000000     66.000000\n",
       "50%        3.000000     74.000000\n",
       "75%        3.000000     85.000000\n",
       "max        6.000000    100.000000"
      ]
     },
     "execution_count": 8,
     "metadata": {},
     "output_type": "execute_result"
    }
   ],
   "source": [
    "df.describe()"
   ]
  },
  {
   "cell_type": "code",
   "execution_count": 9,
   "metadata": {},
   "outputs": [
    {
     "data": {
      "text/plain": [
       "NIM           0\n",
       "ANGKATAN      0\n",
       "SEMESTER      0\n",
       "KODE_MK       0\n",
       "NAMA_MK      23\n",
       "SKS           0\n",
       "NILAI        12\n",
       "GRADE       552\n",
       "dtype: int64"
      ]
     },
     "execution_count": 9,
     "metadata": {},
     "output_type": "execute_result"
    }
   ],
   "source": [
    "df.isnull().sum()"
   ]
  },
  {
   "cell_type": "markdown",
   "metadata": {},
   "source": [
    "# EDA"
   ]
  },
  {
   "cell_type": "code",
   "execution_count": 11,
   "metadata": {},
   "outputs": [
    {
     "data": {
      "text/plain": [
       "array(['2010', '2011', '2012', '2013', '2014', '2015', '2016', '2017',\n",
       "       '2018'], dtype=object)"
      ]
     },
     "execution_count": 11,
     "metadata": {},
     "output_type": "execute_result"
    }
   ],
   "source": [
    "# Grade Distribution per Angkatan\n",
    "df['ANGKATAN'].unique()"
   ]
  },
  {
   "cell_type": "code",
   "execution_count": 12,
   "metadata": {},
   "outputs": [
    {
     "data": {
      "text/plain": [
       "<AxesSubplot:xlabel='GRADE', ylabel='count'>"
      ]
     },
     "execution_count": 12,
     "metadata": {},
     "output_type": "execute_result"
    },
    {
     "data": {
      "image/png": "[encoded data removed]",
      "text/plain": [
       "<Figure size 432x288 with 1 Axes>"
      ]
     },
     "metadata": {},
     "output_type": "display_data"
    }
   ],
   "source": [
    "sns.countplot(data = df[df['ANGKATAN'] == '2010'], x = 'GRADE', order = df[df['ANGKATAN'] == '2010']['GRADE'].value_counts(ascending = True).index)"
   ]
  },
  {
   "cell_type": "code",
   "execution_count": 13,
   "metadata": {},
   "outputs": [
    {
     "data": {
      "text/plain": [
       "<AxesSubplot:xlabel='GRADE', ylabel='count'>"
      ]
     },
     "execution_count": 13,
     "metadata": {},
     "output_type": "execute_result"
    },
    {
     "data": {
      "image/png": "[encoded data removed]",
      "text/plain": [
       "<Figure size 432x288 with 1 Axes>"
      ]
     },
     "metadata": {},
     "output_type": "display_data"
    }
   ],
   "source": [
    "sns.countplot(data = df[df['ANGKATAN'] == \"2018\"], x = 'GRADE', order = df[df['ANGKATAN'] == \"2018\"]['GRADE'].value_counts(ascending = True).index)"
   ]
  },
  {
   "cell_type": "code",
   "execution_count": 14,
   "metadata": {},
   "outputs": [
    {
     "data": {
      "text/html": [
       "<div>\n",
       "<style scoped>\n",
       "    .dataframe tbody tr th:only-of-type {\n",
       "        vertical-align: middle;\n",
       "    }\n",
       "\n",
       "    .dataframe tbody tr th {\n",
       "        vertical-align: top;\n",
       "    }\n",
       "\n",
       "    .dataframe thead th {\n",
       "        text-align: right;\n",
       "    }\n",
       "</style>\n",
       "<table border=\"1\" class=\"dataframe\">\n",
       "  <thead>\n",
       "    <tr style=\"text-align: right;\">\n",
       "      <th></th>\n",
       "      <th>NIM</th>\n",
       "      <th>ANGKATAN</th>\n",
       "      <th>SEMESTER</th>\n",
       "      <th>KODE_MK</th>\n",
       "      <th>NAMA_MK</th>\n",
       "      <th>SKS</th>\n",
       "      <th>NILAI</th>\n",
       "      <th>GRADE</th>\n",
       "    </tr>\n",
       "  </thead>\n",
       "  <tbody>\n",
       "    <tr>\n",
       "      <th>48</th>\n",
       "      <td>10110310002</td>\n",
       "      <td>2010</td>\n",
       "      <td>1322</td>\n",
       "      <td>SI325</td>\n",
       "      <td>SI325 Konsep Sistem Operasi</td>\n",
       "      <td>3</td>\n",
       "      <td>50.0</td>\n",
       "      <td>D</td>\n",
       "    </tr>\n",
       "    <tr>\n",
       "      <th>88</th>\n",
       "      <td>10110310004</td>\n",
       "      <td>2010</td>\n",
       "      <td>1311</td>\n",
       "      <td>SI521</td>\n",
       "      <td>Analisis &amp; Perancangan SI Lanjutan</td>\n",
       "      <td>3</td>\n",
       "      <td>50.0</td>\n",
       "      <td>D</td>\n",
       "    </tr>\n",
       "    <tr>\n",
       "      <th>156</th>\n",
       "      <td>10110310006</td>\n",
       "      <td>2010</td>\n",
       "      <td>1021</td>\n",
       "      <td>IK402</td>\n",
       "      <td>IK402 Komunikasi Interpersonal</td>\n",
       "      <td>2</td>\n",
       "      <td>53.0</td>\n",
       "      <td>D</td>\n",
       "    </tr>\n",
       "    <tr>\n",
       "      <th>205</th>\n",
       "      <td>10110310007</td>\n",
       "      <td>2010</td>\n",
       "      <td>1021</td>\n",
       "      <td>IK402</td>\n",
       "      <td>IK402 Komunikasi Interpersonal</td>\n",
       "      <td>2</td>\n",
       "      <td>47.0</td>\n",
       "      <td>D</td>\n",
       "    </tr>\n",
       "    <tr>\n",
       "      <th>289</th>\n",
       "      <td>10110310008</td>\n",
       "      <td>2010</td>\n",
       "      <td>1311</td>\n",
       "      <td>TI532</td>\n",
       "      <td>Pemrograman Web</td>\n",
       "      <td>3</td>\n",
       "      <td>47.0</td>\n",
       "      <td>D</td>\n",
       "    </tr>\n",
       "  </tbody>\n",
       "</table>\n",
       "</div>"
      ],
      "text/plain": [
       "             NIM ANGKATAN SEMESTER KODE_MK  \\\n",
       "48   10110310002     2010     1322   SI325   \n",
       "88   10110310004     2010     1311   SI521   \n",
       "156  10110310006     2010     1021   IK402   \n",
       "205  10110310007     2010     1021   IK402   \n",
       "289  10110310008     2010     1311   TI532   \n",
       "\n",
       "                                NAMA_MK  SKS  NILAI GRADE  \n",
       "48          SI325 Konsep Sistem Operasi    3   50.0     D  \n",
       "88   Analisis & Perancangan SI Lanjutan    3   50.0     D  \n",
       "156      IK402 Komunikasi Interpersonal    2   53.0     D  \n",
       "205      IK402 Komunikasi Interpersonal    2   47.0     D  \n",
       "289                     Pemrograman Web    3   47.0     D  "
      ]
     },
     "execution_count": 14,
     "metadata": {},
     "output_type": "execute_result"
    }
   ],
   "source": [
    "df_EDF = df.loc[(df['GRADE'] == 'D') | (df['GRADE'] == 'E') | (df['GRADE'] == 'F')]\n",
    "df_EDF.head()"
   ]
  },
  {
   "cell_type": "code",
   "execution_count": 15,
   "metadata": {},
   "outputs": [
    {
     "data": {
      "image/png": "[encoded data removed]",
      "text/plain": [
       "<Figure size 2880x720 with 1 Axes>"
      ]
     },
     "metadata": {},
     "output_type": "display_data"
    }
   ],
   "source": [
    "plt.figure(figsize=(40,10))\n",
    "sns.countplot(data = df_EDF, x = 'KODE_MK', order = df_EDF['KODE_MK'].value_counts(ascending = True).index)\n",
    "plt.title('Jumlah Nilai D,E, dan F')\n",
    "\n",
    "plt.xlabel('Kode Matakuliah')\n",
    "plt.ylabel('Jumlah')\n",
    "plt.xticks(rotation = 45)\n",
    "\n",
    "plt.show()"
   ]
  },
  {
   "cell_type": "markdown",
   "metadata": {},
   "source": [
    "# Data Cleaning"
   ]
  },
  {
   "cell_type": "code",
   "execution_count": 11,
   "metadata": {},
   "outputs": [
    {
     "data": {
      "text/plain": [
       "NIM           0\n",
       "ANGKATAN      0\n",
       "SEMESTER      0\n",
       "KODE_MK       0\n",
       "NAMA_MK      23\n",
       "SKS           0\n",
       "NILAI         0\n",
       "GRADE       552\n",
       "dtype: int64"
      ]
     },
     "execution_count": 11,
     "metadata": {},
     "output_type": "execute_result"
    }
   ],
   "source": [
    "df.isnull().sum()"
   ]
  },
  {
   "cell_type": "code",
   "execution_count": 10,
   "metadata": {},
   "outputs": [],
   "source": [
    "# Nilai\n",
    "df.loc[(df['NILAI'].isnull() == True)]['GRADE'].value_counts()\n",
    "\n",
    "# Assume that F grade means that the score is 0\n",
    "# since there are only F for NILAI column with null values\n",
    "df['NILAI'] = df['NILAI'].fillna(0)"
   ]
  },
  {
   "cell_type": "code",
   "execution_count": 12,
   "metadata": {},
   "outputs": [
    {
     "data": {
      "text/plain": [
       "NIM           0\n",
       "ANGKATAN      0\n",
       "SEMESTER      0\n",
       "KODE_MK       0\n",
       "NAMA_MK      23\n",
       "SKS           0\n",
       "NILAI         0\n",
       "GRADE       552\n",
       "dtype: int64"
      ]
     },
     "execution_count": 12,
     "metadata": {},
     "output_type": "execute_result"
    }
   ],
   "source": [
    "df.isnull().sum()"
   ]
  },
  {
   "cell_type": "code",
   "execution_count": 13,
   "metadata": {},
   "outputs": [],
   "source": [
    "# Grade\n",
    "def nilai_grade(nilai):\n",
    "    if 85 <= nilai <= 100:\n",
    "        return 'A'\n",
    "    elif 80 <= nilai < 85:\n",
    "        return 'A-'\n",
    "    elif 75 <= nilai < 80:\n",
    "        return 'B+'\n",
    "    elif 70 <= nilai < 75:\n",
    "        return 'B'\n",
    "    elif 65 <= nilai < 70:\n",
    "        return 'B-'\n",
    "    elif 60 <= nilai < 65:\n",
    "        return 'C+'\n",
    "    elif 55 <= nilai < 60:\n",
    "        return 'C'\n",
    "    elif 45 <= nilai < 55:\n",
    "        return 'D'\n",
    "    elif 0 < nilai < 45:\n",
    "        return 'E'\n",
    "    elif nilai == 0:\n",
    "        return 'F'"
   ]
  },
  {
   "cell_type": "code",
   "execution_count": 14,
   "metadata": {},
   "outputs": [
    {
     "data": {
      "text/html": [
       "<div>\n",
       "<style scoped>\n",
       "    .dataframe tbody tr th:only-of-type {\n",
       "        vertical-align: middle;\n",
       "    }\n",
       "\n",
       "    .dataframe tbody tr th {\n",
       "        vertical-align: top;\n",
       "    }\n",
       "\n",
       "    .dataframe thead th {\n",
       "        text-align: right;\n",
       "    }\n",
       "</style>\n",
       "<table border=\"1\" class=\"dataframe\">\n",
       "  <thead>\n",
       "    <tr style=\"text-align: right;\">\n",
       "      <th></th>\n",
       "      <th>NIM</th>\n",
       "      <th>ANGKATAN</th>\n",
       "      <th>SEMESTER</th>\n",
       "      <th>KODE_MK</th>\n",
       "      <th>NAMA_MK</th>\n",
       "      <th>SKS</th>\n",
       "      <th>NILAI</th>\n",
       "      <th>GRADE</th>\n",
       "    </tr>\n",
       "  </thead>\n",
       "  <tbody>\n",
       "    <tr>\n",
       "      <th>10</th>\n",
       "      <td>10110310002</td>\n",
       "      <td>2010</td>\n",
       "      <td>1021</td>\n",
       "      <td>SI214</td>\n",
       "      <td>SI214 Manajemen Operasional</td>\n",
       "      <td>3</td>\n",
       "      <td>71.0</td>\n",
       "      <td>NaN</td>\n",
       "    </tr>\n",
       "    <tr>\n",
       "      <th>16</th>\n",
       "      <td>10110310002</td>\n",
       "      <td>2010</td>\n",
       "      <td>1111</td>\n",
       "      <td>SI301</td>\n",
       "      <td>SI301 Sistem Informasi Manajemen</td>\n",
       "      <td>3</td>\n",
       "      <td>89.0</td>\n",
       "      <td>NaN</td>\n",
       "    </tr>\n",
       "    <tr>\n",
       "      <th>32</th>\n",
       "      <td>10110310002</td>\n",
       "      <td>2010</td>\n",
       "      <td>1211</td>\n",
       "      <td>SI527</td>\n",
       "      <td>SI527 Enterprise Resource Planning</td>\n",
       "      <td>3</td>\n",
       "      <td>73.0</td>\n",
       "      <td>NaN</td>\n",
       "    </tr>\n",
       "    <tr>\n",
       "      <th>53</th>\n",
       "      <td>10110310004</td>\n",
       "      <td>2010</td>\n",
       "      <td>1021</td>\n",
       "      <td>EM201</td>\n",
       "      <td>Dasar-dasar Manajemen</td>\n",
       "      <td>3</td>\n",
       "      <td>58.0</td>\n",
       "      <td>NaN</td>\n",
       "    </tr>\n",
       "    <tr>\n",
       "      <th>68</th>\n",
       "      <td>10110310004</td>\n",
       "      <td>2010</td>\n",
       "      <td>1121</td>\n",
       "      <td>TI403</td>\n",
       "      <td>Sistem Basis Data</td>\n",
       "      <td>4</td>\n",
       "      <td>72.0</td>\n",
       "      <td>NaN</td>\n",
       "    </tr>\n",
       "  </tbody>\n",
       "</table>\n",
       "</div>"
      ],
      "text/plain": [
       "            NIM ANGKATAN SEMESTER KODE_MK                             NAMA_MK  \\\n",
       "10  10110310002     2010     1021   SI214         SI214 Manajemen Operasional   \n",
       "16  10110310002     2010     1111   SI301    SI301 Sistem Informasi Manajemen   \n",
       "32  10110310002     2010     1211   SI527  SI527 Enterprise Resource Planning   \n",
       "53  10110310004     2010     1021   EM201               Dasar-dasar Manajemen   \n",
       "68  10110310004     2010     1121   TI403                   Sistem Basis Data   \n",
       "\n",
       "    SKS  NILAI GRADE  \n",
       "10    3   71.0   NaN  \n",
       "16    3   89.0   NaN  \n",
       "32    3   73.0   NaN  \n",
       "53    3   58.0   NaN  \n",
       "68    4   72.0   NaN  "
      ]
     },
     "execution_count": 14,
     "metadata": {},
     "output_type": "execute_result"
    }
   ],
   "source": [
    "df.loc[df['GRADE'].isnull() == True].head()"
   ]
  },
  {
   "cell_type": "code",
   "execution_count": 15,
   "metadata": {},
   "outputs": [],
   "source": [
    "df['GRADE'] = df['NILAI'].apply(lambda x: nilai_grade(x))"
   ]
  },
  {
   "cell_type": "code",
   "execution_count": 16,
   "metadata": {},
   "outputs": [
    {
     "data": {
      "text/plain": [
       "NIM          0\n",
       "ANGKATAN     0\n",
       "SEMESTER     0\n",
       "KODE_MK      0\n",
       "NAMA_MK     23\n",
       "SKS          0\n",
       "NILAI        0\n",
       "GRADE        0\n",
       "dtype: int64"
      ]
     },
     "execution_count": 16,
     "metadata": {},
     "output_type": "execute_result"
    }
   ],
   "source": [
    "df.isnull().sum()"
   ]
  },
  {
   "cell_type": "code",
   "execution_count": 17,
   "metadata": {},
   "outputs": [
    {
     "data": {
      "text/plain": [
       "array(['C', 'B', 'A', 'D', 'A-', 'B+', 'B-', 'C+', 'E', 'F'], dtype=object)"
      ]
     },
     "execution_count": 17,
     "metadata": {},
     "output_type": "execute_result"
    }
   ],
   "source": [
    "df['GRADE'].unique()"
   ]
  },
  {
   "cell_type": "code",
   "execution_count": 18,
   "metadata": {},
   "outputs": [
    {
     "data": {
      "text/html": [
       "<div>\n",
       "<style scoped>\n",
       "    .dataframe tbody tr th:only-of-type {\n",
       "        vertical-align: middle;\n",
       "    }\n",
       "\n",
       "    .dataframe tbody tr th {\n",
       "        vertical-align: top;\n",
       "    }\n",
       "\n",
       "    .dataframe thead th {\n",
       "        text-align: right;\n",
       "    }\n",
       "</style>\n",
       "<table border=\"1\" class=\"dataframe\">\n",
       "  <thead>\n",
       "    <tr style=\"text-align: right;\">\n",
       "      <th></th>\n",
       "      <th>NIM</th>\n",
       "      <th>ANGKATAN</th>\n",
       "      <th>SEMESTER</th>\n",
       "      <th>KODE_MK</th>\n",
       "      <th>NAMA_MK</th>\n",
       "      <th>SKS</th>\n",
       "      <th>NILAI</th>\n",
       "      <th>GRADE</th>\n",
       "    </tr>\n",
       "  </thead>\n",
       "  <tbody>\n",
       "    <tr>\n",
       "      <th>30865</th>\n",
       "      <td>33849</td>\n",
       "      <td>2018</td>\n",
       "      <td>1821</td>\n",
       "      <td>IS220</td>\n",
       "      <td>Interaksi Manusia dan Komputer</td>\n",
       "      <td>3</td>\n",
       "      <td>26.0</td>\n",
       "      <td>E</td>\n",
       "    </tr>\n",
       "    <tr>\n",
       "      <th>30866</th>\n",
       "      <td>33849</td>\n",
       "      <td>2018</td>\n",
       "      <td>1821</td>\n",
       "      <td>IS240</td>\n",
       "      <td>Probabilitas dan Statistik</td>\n",
       "      <td>3</td>\n",
       "      <td>38.0</td>\n",
       "      <td>E</td>\n",
       "    </tr>\n",
       "    <tr>\n",
       "      <th>30867</th>\n",
       "      <td>33849</td>\n",
       "      <td>2018</td>\n",
       "      <td>1821</td>\n",
       "      <td>IS251</td>\n",
       "      <td>Perilaku Organisasi</td>\n",
       "      <td>2</td>\n",
       "      <td>49.0</td>\n",
       "      <td>D</td>\n",
       "    </tr>\n",
       "    <tr>\n",
       "      <th>30868</th>\n",
       "      <td>33849</td>\n",
       "      <td>2018</td>\n",
       "      <td>1821</td>\n",
       "      <td>IS255</td>\n",
       "      <td>Algoritma dan Struktur Data</td>\n",
       "      <td>4</td>\n",
       "      <td>1.0</td>\n",
       "      <td>E</td>\n",
       "    </tr>\n",
       "    <tr>\n",
       "      <th>30869</th>\n",
       "      <td>33849</td>\n",
       "      <td>2018</td>\n",
       "      <td>1821</td>\n",
       "      <td>UM223</td>\n",
       "      <td>Bahasa Inggris 2</td>\n",
       "      <td>2</td>\n",
       "      <td>40.0</td>\n",
       "      <td>E</td>\n",
       "    </tr>\n",
       "  </tbody>\n",
       "</table>\n",
       "</div>"
      ],
      "text/plain": [
       "         NIM ANGKATAN SEMESTER KODE_MK                         NAMA_MK  SKS  \\\n",
       "30865  33849     2018     1821   IS220  Interaksi Manusia dan Komputer    3   \n",
       "30866  33849     2018     1821   IS240      Probabilitas dan Statistik    3   \n",
       "30867  33849     2018     1821   IS251             Perilaku Organisasi    2   \n",
       "30868  33849     2018     1821   IS255     Algoritma dan Struktur Data    4   \n",
       "30869  33849     2018     1821   UM223                Bahasa Inggris 2    2   \n",
       "\n",
       "       NILAI GRADE  \n",
       "30865   26.0     E  \n",
       "30866   38.0     E  \n",
       "30867   49.0     D  \n",
       "30868    1.0     E  \n",
       "30869   40.0     E  "
      ]
     },
     "execution_count": 18,
     "metadata": {},
     "output_type": "execute_result"
    }
   ],
   "source": [
    "# there are incomplete 'NIM'\n",
    "# we will try to fix it\n",
    "df.tail()"
   ]
  },
  {
   "cell_type": "code",
   "execution_count": 19,
   "metadata": {},
   "outputs": [],
   "source": [
    "def fix_nim(df):\n",
    "    for i in range(df.shape[0]):\n",
    "        if len(df['NIM'][i]) != 11:\n",
    "            if len(df['NIM'][i]) == 5:\n",
    "                str_angkatan = df['ANGKATAN'][i]\n",
    "                df['NIM'][i] = str_angkatan[2:] +'11031' + df['NIM'][i]\n",
    "            \n",
    "            elif len(df['NIM'][i]) == 4:\n",
    "                str_angkatan = df['ANGKATAN'][i]\n",
    "                df['NIM'][i] = str_angkatan[2:] +'110310' + df['NIM'][i]\n",
    "        \n",
    "        else:\n",
    "            pass\n",
    "        \n",
    "    return df"
   ]
  },
  {
   "cell_type": "code",
   "execution_count": 20,
   "metadata": {},
   "outputs": [],
   "source": [
    "df = fix_nim(df)"
   ]
  },
  {
   "cell_type": "code",
   "execution_count": 21,
   "metadata": {},
   "outputs": [
    {
     "data": {
      "text/html": [
       "<div>\n",
       "<style scoped>\n",
       "    .dataframe tbody tr th:only-of-type {\n",
       "        vertical-align: middle;\n",
       "    }\n",
       "\n",
       "    .dataframe tbody tr th {\n",
       "        vertical-align: top;\n",
       "    }\n",
       "\n",
       "    .dataframe thead th {\n",
       "        text-align: right;\n",
       "    }\n",
       "</style>\n",
       "<table border=\"1\" class=\"dataframe\">\n",
       "  <thead>\n",
       "    <tr style=\"text-align: right;\">\n",
       "      <th></th>\n",
       "      <th>NIM</th>\n",
       "      <th>ANGKATAN</th>\n",
       "      <th>SEMESTER</th>\n",
       "      <th>KODE_MK</th>\n",
       "      <th>NAMA_MK</th>\n",
       "      <th>SKS</th>\n",
       "      <th>NILAI</th>\n",
       "      <th>GRADE</th>\n",
       "    </tr>\n",
       "  </thead>\n",
       "  <tbody>\n",
       "    <tr>\n",
       "      <th>30865</th>\n",
       "      <td>181103133849</td>\n",
       "      <td>2018</td>\n",
       "      <td>1821</td>\n",
       "      <td>IS220</td>\n",
       "      <td>Interaksi Manusia dan Komputer</td>\n",
       "      <td>3</td>\n",
       "      <td>26.0</td>\n",
       "      <td>E</td>\n",
       "    </tr>\n",
       "    <tr>\n",
       "      <th>30866</th>\n",
       "      <td>181103133849</td>\n",
       "      <td>2018</td>\n",
       "      <td>1821</td>\n",
       "      <td>IS240</td>\n",
       "      <td>Probabilitas dan Statistik</td>\n",
       "      <td>3</td>\n",
       "      <td>38.0</td>\n",
       "      <td>E</td>\n",
       "    </tr>\n",
       "    <tr>\n",
       "      <th>30867</th>\n",
       "      <td>181103133849</td>\n",
       "      <td>2018</td>\n",
       "      <td>1821</td>\n",
       "      <td>IS251</td>\n",
       "      <td>Perilaku Organisasi</td>\n",
       "      <td>2</td>\n",
       "      <td>49.0</td>\n",
       "      <td>D</td>\n",
       "    </tr>\n",
       "    <tr>\n",
       "      <th>30868</th>\n",
       "      <td>181103133849</td>\n",
       "      <td>2018</td>\n",
       "      <td>1821</td>\n",
       "      <td>IS255</td>\n",
       "      <td>Algoritma dan Struktur Data</td>\n",
       "      <td>4</td>\n",
       "      <td>1.0</td>\n",
       "      <td>E</td>\n",
       "    </tr>\n",
       "    <tr>\n",
       "      <th>30869</th>\n",
       "      <td>181103133849</td>\n",
       "      <td>2018</td>\n",
       "      <td>1821</td>\n",
       "      <td>UM223</td>\n",
       "      <td>Bahasa Inggris 2</td>\n",
       "      <td>2</td>\n",
       "      <td>40.0</td>\n",
       "      <td>E</td>\n",
       "    </tr>\n",
       "  </tbody>\n",
       "</table>\n",
       "</div>"
      ],
      "text/plain": [
       "                NIM ANGKATAN SEMESTER KODE_MK                         NAMA_MK  \\\n",
       "30865  181103133849     2018     1821   IS220  Interaksi Manusia dan Komputer   \n",
       "30866  181103133849     2018     1821   IS240      Probabilitas dan Statistik   \n",
       "30867  181103133849     2018     1821   IS251             Perilaku Organisasi   \n",
       "30868  181103133849     2018     1821   IS255     Algoritma dan Struktur Data   \n",
       "30869  181103133849     2018     1821   UM223                Bahasa Inggris 2   \n",
       "\n",
       "       SKS  NILAI GRADE  \n",
       "30865    3   26.0     E  \n",
       "30866    3   38.0     E  \n",
       "30867    2   49.0     D  \n",
       "30868    4    1.0     E  \n",
       "30869    2   40.0     E  "
      ]
     },
     "execution_count": 21,
     "metadata": {},
     "output_type": "execute_result"
    }
   ],
   "source": [
    "df.tail()"
   ]
  },
  {
   "cell_type": "code",
   "execution_count": 22,
   "metadata": {},
   "outputs": [
    {
     "data": {
      "text/html": [
       "<div>\n",
       "<style scoped>\n",
       "    .dataframe tbody tr th:only-of-type {\n",
       "        vertical-align: middle;\n",
       "    }\n",
       "\n",
       "    .dataframe tbody tr th {\n",
       "        vertical-align: top;\n",
       "    }\n",
       "\n",
       "    .dataframe thead th {\n",
       "        text-align: right;\n",
       "    }\n",
       "</style>\n",
       "<table border=\"1\" class=\"dataframe\">\n",
       "  <thead>\n",
       "    <tr style=\"text-align: right;\">\n",
       "      <th></th>\n",
       "      <th>NIM</th>\n",
       "      <th>ANGKATAN</th>\n",
       "      <th>SEMESTER</th>\n",
       "      <th>KODE_MK</th>\n",
       "      <th>NAMA_MK</th>\n",
       "      <th>SKS</th>\n",
       "      <th>NILAI</th>\n",
       "      <th>GRADE</th>\n",
       "    </tr>\n",
       "  </thead>\n",
       "  <tbody>\n",
       "    <tr>\n",
       "      <th>346</th>\n",
       "      <td>10110310011</td>\n",
       "      <td>2010</td>\n",
       "      <td>1011</td>\n",
       "      <td>EM100</td>\n",
       "      <td>EM100 Dasar-dasar Bisnis</td>\n",
       "      <td>3</td>\n",
       "      <td>74.0</td>\n",
       "      <td>B</td>\n",
       "    </tr>\n",
       "    <tr>\n",
       "      <th>348</th>\n",
       "      <td>10110310011</td>\n",
       "      <td>2010</td>\n",
       "      <td>1011</td>\n",
       "      <td>EM180</td>\n",
       "      <td>Matematika Bisnis</td>\n",
       "      <td>3</td>\n",
       "      <td>74.0</td>\n",
       "      <td>B</td>\n",
       "    </tr>\n",
       "    <tr>\n",
       "      <th>350</th>\n",
       "      <td>10110310011</td>\n",
       "      <td>2010</td>\n",
       "      <td>1011</td>\n",
       "      <td>TI100</td>\n",
       "      <td>TI100 Algoritma dan Pemrograman</td>\n",
       "      <td>4</td>\n",
       "      <td>74.0</td>\n",
       "      <td>B</td>\n",
       "    </tr>\n",
       "    <tr>\n",
       "      <th>352</th>\n",
       "      <td>10110310011</td>\n",
       "      <td>2010</td>\n",
       "      <td>1011</td>\n",
       "      <td>TI101</td>\n",
       "      <td>TI101 Matematika Diskrit</td>\n",
       "      <td>3</td>\n",
       "      <td>73.0</td>\n",
       "      <td>B</td>\n",
       "    </tr>\n",
       "    <tr>\n",
       "      <th>354</th>\n",
       "      <td>10110310011</td>\n",
       "      <td>2010</td>\n",
       "      <td>1011</td>\n",
       "      <td>TI110</td>\n",
       "      <td>TI110 Pengantar Teknologi Multimedia</td>\n",
       "      <td>3</td>\n",
       "      <td>74.0</td>\n",
       "      <td>B</td>\n",
       "    </tr>\n",
       "    <tr>\n",
       "      <th>...</th>\n",
       "      <td>...</td>\n",
       "      <td>...</td>\n",
       "      <td>...</td>\n",
       "      <td>...</td>\n",
       "      <td>...</td>\n",
       "      <td>...</td>\n",
       "      <td>...</td>\n",
       "      <td>...</td>\n",
       "    </tr>\n",
       "    <tr>\n",
       "      <th>6876</th>\n",
       "      <td>11110310080</td>\n",
       "      <td>2011</td>\n",
       "      <td>1411</td>\n",
       "      <td>SI725</td>\n",
       "      <td>SI725 Knowledge Management</td>\n",
       "      <td>3</td>\n",
       "      <td>79.0</td>\n",
       "      <td>B+</td>\n",
       "    </tr>\n",
       "    <tr>\n",
       "      <th>6878</th>\n",
       "      <td>11110310080</td>\n",
       "      <td>2011</td>\n",
       "      <td>1411</td>\n",
       "      <td>SI729</td>\n",
       "      <td>Sistem dan Aplikasi Perusahaan 3</td>\n",
       "      <td>3</td>\n",
       "      <td>84.0</td>\n",
       "      <td>A-</td>\n",
       "    </tr>\n",
       "    <tr>\n",
       "      <th>6880</th>\n",
       "      <td>11110310080</td>\n",
       "      <td>2011</td>\n",
       "      <td>1411</td>\n",
       "      <td>SI860</td>\n",
       "      <td>SI860 Magang Kerja</td>\n",
       "      <td>4</td>\n",
       "      <td>90.0</td>\n",
       "      <td>A</td>\n",
       "    </tr>\n",
       "    <tr>\n",
       "      <th>6882</th>\n",
       "      <td>11110310080</td>\n",
       "      <td>2011</td>\n",
       "      <td>1411</td>\n",
       "      <td>SI863</td>\n",
       "      <td>NaN</td>\n",
       "      <td>6</td>\n",
       "      <td>78.0</td>\n",
       "      <td>B+</td>\n",
       "    </tr>\n",
       "    <tr>\n",
       "      <th>12415</th>\n",
       "      <td>13110310069</td>\n",
       "      <td>2013</td>\n",
       "      <td>1811</td>\n",
       "      <td>IS571</td>\n",
       "      <td>Tata Kelola Teknologi Informasi 1</td>\n",
       "      <td>3</td>\n",
       "      <td>7.0</td>\n",
       "      <td>E</td>\n",
       "    </tr>\n",
       "  </tbody>\n",
       "</table>\n",
       "<p>785 rows × 8 columns</p>\n",
       "</div>"
      ],
      "text/plain": [
       "               NIM ANGKATAN SEMESTER KODE_MK  \\\n",
       "346    10110310011     2010     1011   EM100   \n",
       "348    10110310011     2010     1011   EM180   \n",
       "350    10110310011     2010     1011   TI100   \n",
       "352    10110310011     2010     1011   TI101   \n",
       "354    10110310011     2010     1011   TI110   \n",
       "...            ...      ...      ...     ...   \n",
       "6876   11110310080     2011     1411   SI725   \n",
       "6878   11110310080     2011     1411   SI729   \n",
       "6880   11110310080     2011     1411   SI860   \n",
       "6882   11110310080     2011     1411   SI863   \n",
       "12415  13110310069     2013     1811   IS571   \n",
       "\n",
       "                                    NAMA_MK  SKS  NILAI GRADE  \n",
       "346                EM100 Dasar-dasar Bisnis    3   74.0     B  \n",
       "348                       Matematika Bisnis    3   74.0     B  \n",
       "350         TI100 Algoritma dan Pemrograman    4   74.0     B  \n",
       "352                TI101 Matematika Diskrit    3   73.0     B  \n",
       "354    TI110 Pengantar Teknologi Multimedia    3   74.0     B  \n",
       "...                                     ...  ...    ...   ...  \n",
       "6876             SI725 Knowledge Management    3   79.0    B+  \n",
       "6878       Sistem dan Aplikasi Perusahaan 3    3   84.0    A-  \n",
       "6880                     SI860 Magang Kerja    4   90.0     A  \n",
       "6882                                    NaN    6   78.0    B+  \n",
       "12415     Tata Kelola Teknologi Informasi 1    3    7.0     E  \n",
       "\n",
       "[785 rows x 8 columns]"
      ]
     },
     "execution_count": 22,
     "metadata": {},
     "output_type": "execute_result"
    }
   ],
   "source": [
    "# checking duplicate values\n",
    "df[df.duplicated(['NIM','KODE_MK'])]"
   ]
  },
  {
   "cell_type": "code",
   "execution_count": 23,
   "metadata": {},
   "outputs": [],
   "source": [
    "df = df.drop_duplicates(subset = ['NIM','KODE_MK'], keep = 'first')"
   ]
  },
  {
   "cell_type": "code",
   "execution_count": 24,
   "metadata": {},
   "outputs": [
    {
     "data": {
      "text/html": [
       "<div>\n",
       "<style scoped>\n",
       "    .dataframe tbody tr th:only-of-type {\n",
       "        vertical-align: middle;\n",
       "    }\n",
       "\n",
       "    .dataframe tbody tr th {\n",
       "        vertical-align: top;\n",
       "    }\n",
       "\n",
       "    .dataframe thead th {\n",
       "        text-align: right;\n",
       "    }\n",
       "</style>\n",
       "<table border=\"1\" class=\"dataframe\">\n",
       "  <thead>\n",
       "    <tr style=\"text-align: right;\">\n",
       "      <th></th>\n",
       "      <th>NIM</th>\n",
       "      <th>ANGKATAN</th>\n",
       "      <th>SEMESTER</th>\n",
       "      <th>KODE_MK</th>\n",
       "      <th>NAMA_MK</th>\n",
       "      <th>SKS</th>\n",
       "      <th>NILAI</th>\n",
       "      <th>GRADE</th>\n",
       "    </tr>\n",
       "  </thead>\n",
       "  <tbody>\n",
       "  </tbody>\n",
       "</table>\n",
       "</div>"
      ],
      "text/plain": [
       "Empty DataFrame\n",
       "Columns: [NIM, ANGKATAN, SEMESTER, KODE_MK, NAMA_MK, SKS, NILAI, GRADE]\n",
       "Index: []"
      ]
     },
     "execution_count": 24,
     "metadata": {},
     "output_type": "execute_result"
    }
   ],
   "source": [
    "# no duplicate value\n",
    "df[df.duplicated(['NIM','KODE_MK'])]"
   ]
  },
  {
   "cell_type": "markdown",
   "metadata": {},
   "source": [
    "# Feature Engineering"
   ]
  },
  {
   "cell_type": "code",
   "execution_count": 25,
   "metadata": {},
   "outputs": [
    {
     "data": {
      "text/html": [
       "<div>\n",
       "<style scoped>\n",
       "    .dataframe tbody tr th:only-of-type {\n",
       "        vertical-align: middle;\n",
       "    }\n",
       "\n",
       "    .dataframe tbody tr th {\n",
       "        vertical-align: top;\n",
       "    }\n",
       "\n",
       "    .dataframe thead th {\n",
       "        text-align: right;\n",
       "    }\n",
       "</style>\n",
       "<table border=\"1\" class=\"dataframe\">\n",
       "  <thead>\n",
       "    <tr style=\"text-align: right;\">\n",
       "      <th></th>\n",
       "      <th>NIM</th>\n",
       "      <th>ANGKATAN</th>\n",
       "      <th>SEMESTER</th>\n",
       "      <th>KODE_MK</th>\n",
       "      <th>NAMA_MK</th>\n",
       "      <th>SKS</th>\n",
       "      <th>NILAI</th>\n",
       "      <th>GRADE</th>\n",
       "    </tr>\n",
       "  </thead>\n",
       "  <tbody>\n",
       "    <tr>\n",
       "      <th>0</th>\n",
       "      <td>10110310002</td>\n",
       "      <td>2010</td>\n",
       "      <td>1011</td>\n",
       "      <td>EM100</td>\n",
       "      <td>EM100 Dasar-dasar Bisnis</td>\n",
       "      <td>3</td>\n",
       "      <td>57.0</td>\n",
       "      <td>C</td>\n",
       "    </tr>\n",
       "    <tr>\n",
       "      <th>1</th>\n",
       "      <td>10110310002</td>\n",
       "      <td>2010</td>\n",
       "      <td>1011</td>\n",
       "      <td>EM180</td>\n",
       "      <td>EM180 Matematika Bisnis</td>\n",
       "      <td>3</td>\n",
       "      <td>70.0</td>\n",
       "      <td>B</td>\n",
       "    </tr>\n",
       "    <tr>\n",
       "      <th>2</th>\n",
       "      <td>10110310002</td>\n",
       "      <td>2010</td>\n",
       "      <td>1011</td>\n",
       "      <td>TI100</td>\n",
       "      <td>TI100 Algoritma dan Pemrograman</td>\n",
       "      <td>4</td>\n",
       "      <td>57.0</td>\n",
       "      <td>C</td>\n",
       "    </tr>\n",
       "    <tr>\n",
       "      <th>3</th>\n",
       "      <td>10110310002</td>\n",
       "      <td>2010</td>\n",
       "      <td>1011</td>\n",
       "      <td>TI101</td>\n",
       "      <td>TI101 Matematika Diskrit</td>\n",
       "      <td>3</td>\n",
       "      <td>59.0</td>\n",
       "      <td>C</td>\n",
       "    </tr>\n",
       "    <tr>\n",
       "      <th>4</th>\n",
       "      <td>10110310002</td>\n",
       "      <td>2010</td>\n",
       "      <td>1011</td>\n",
       "      <td>TI110</td>\n",
       "      <td>TI110 Pengantar Teknologi Multimedia</td>\n",
       "      <td>3</td>\n",
       "      <td>74.0</td>\n",
       "      <td>B</td>\n",
       "    </tr>\n",
       "  </tbody>\n",
       "</table>\n",
       "</div>"
      ],
      "text/plain": [
       "           NIM ANGKATAN SEMESTER KODE_MK  \\\n",
       "0  10110310002     2010     1011   EM100   \n",
       "1  10110310002     2010     1011   EM180   \n",
       "2  10110310002     2010     1011   TI100   \n",
       "3  10110310002     2010     1011   TI101   \n",
       "4  10110310002     2010     1011   TI110   \n",
       "\n",
       "                                NAMA_MK  SKS  NILAI GRADE  \n",
       "0              EM100 Dasar-dasar Bisnis    3   57.0     C  \n",
       "1               EM180 Matematika Bisnis    3   70.0     B  \n",
       "2       TI100 Algoritma dan Pemrograman    4   57.0     C  \n",
       "3              TI101 Matematika Diskrit    3   59.0     C  \n",
       "4  TI110 Pengantar Teknologi Multimedia    3   74.0     B  "
      ]
     },
     "execution_count": 25,
     "metadata": {},
     "output_type": "execute_result"
    }
   ],
   "source": [
    "df.head()"
   ]
  },
  {
   "cell_type": "code",
   "execution_count": 26,
   "metadata": {},
   "outputs": [],
   "source": [
    "# creating 'bobot' feature with the condition as follow\n",
    "grade_weight = {\n",
    "    'A' : 4,\n",
    "    'A-' : 3.7,\n",
    "    'B+' : 3.3,\n",
    "    'B' : 3,\n",
    "    'B-': 2.7,\n",
    "    'C+': 2.3,\n",
    "    'C':2,\n",
    "    'D':1,\n",
    "    'E':0,'F':0\n",
    "}"
   ]
  },
  {
   "cell_type": "code",
   "execution_count": 27,
   "metadata": {},
   "outputs": [],
   "source": [
    "df['BOBOT'] = df['GRADE'].map(grade_weight)"
   ]
  },
  {
   "cell_type": "code",
   "execution_count": 28,
   "metadata": {},
   "outputs": [
    {
     "data": {
      "text/html": [
       "<div>\n",
       "<style scoped>\n",
       "    .dataframe tbody tr th:only-of-type {\n",
       "        vertical-align: middle;\n",
       "    }\n",
       "\n",
       "    .dataframe tbody tr th {\n",
       "        vertical-align: top;\n",
       "    }\n",
       "\n",
       "    .dataframe thead th {\n",
       "        text-align: right;\n",
       "    }\n",
       "</style>\n",
       "<table border=\"1\" class=\"dataframe\">\n",
       "  <thead>\n",
       "    <tr style=\"text-align: right;\">\n",
       "      <th></th>\n",
       "      <th>NIM</th>\n",
       "      <th>ANGKATAN</th>\n",
       "      <th>SEMESTER</th>\n",
       "      <th>KODE_MK</th>\n",
       "      <th>NAMA_MK</th>\n",
       "      <th>SKS</th>\n",
       "      <th>NILAI</th>\n",
       "      <th>GRADE</th>\n",
       "      <th>BOBOT</th>\n",
       "    </tr>\n",
       "  </thead>\n",
       "  <tbody>\n",
       "    <tr>\n",
       "      <th>0</th>\n",
       "      <td>10110310002</td>\n",
       "      <td>2010</td>\n",
       "      <td>1011</td>\n",
       "      <td>EM100</td>\n",
       "      <td>EM100 Dasar-dasar Bisnis</td>\n",
       "      <td>3</td>\n",
       "      <td>57.0</td>\n",
       "      <td>C</td>\n",
       "      <td>2.0</td>\n",
       "    </tr>\n",
       "    <tr>\n",
       "      <th>1</th>\n",
       "      <td>10110310002</td>\n",
       "      <td>2010</td>\n",
       "      <td>1011</td>\n",
       "      <td>EM180</td>\n",
       "      <td>EM180 Matematika Bisnis</td>\n",
       "      <td>3</td>\n",
       "      <td>70.0</td>\n",
       "      <td>B</td>\n",
       "      <td>3.0</td>\n",
       "    </tr>\n",
       "    <tr>\n",
       "      <th>2</th>\n",
       "      <td>10110310002</td>\n",
       "      <td>2010</td>\n",
       "      <td>1011</td>\n",
       "      <td>TI100</td>\n",
       "      <td>TI100 Algoritma dan Pemrograman</td>\n",
       "      <td>4</td>\n",
       "      <td>57.0</td>\n",
       "      <td>C</td>\n",
       "      <td>2.0</td>\n",
       "    </tr>\n",
       "    <tr>\n",
       "      <th>3</th>\n",
       "      <td>10110310002</td>\n",
       "      <td>2010</td>\n",
       "      <td>1011</td>\n",
       "      <td>TI101</td>\n",
       "      <td>TI101 Matematika Diskrit</td>\n",
       "      <td>3</td>\n",
       "      <td>59.0</td>\n",
       "      <td>C</td>\n",
       "      <td>2.0</td>\n",
       "    </tr>\n",
       "    <tr>\n",
       "      <th>4</th>\n",
       "      <td>10110310002</td>\n",
       "      <td>2010</td>\n",
       "      <td>1011</td>\n",
       "      <td>TI110</td>\n",
       "      <td>TI110 Pengantar Teknologi Multimedia</td>\n",
       "      <td>3</td>\n",
       "      <td>74.0</td>\n",
       "      <td>B</td>\n",
       "      <td>3.0</td>\n",
       "    </tr>\n",
       "  </tbody>\n",
       "</table>\n",
       "</div>"
      ],
      "text/plain": [
       "           NIM ANGKATAN SEMESTER KODE_MK  \\\n",
       "0  10110310002     2010     1011   EM100   \n",
       "1  10110310002     2010     1011   EM180   \n",
       "2  10110310002     2010     1011   TI100   \n",
       "3  10110310002     2010     1011   TI101   \n",
       "4  10110310002     2010     1011   TI110   \n",
       "\n",
       "                                NAMA_MK  SKS  NILAI GRADE  BOBOT  \n",
       "0              EM100 Dasar-dasar Bisnis    3   57.0     C    2.0  \n",
       "1               EM180 Matematika Bisnis    3   70.0     B    3.0  \n",
       "2       TI100 Algoritma dan Pemrograman    4   57.0     C    2.0  \n",
       "3              TI101 Matematika Diskrit    3   59.0     C    2.0  \n",
       "4  TI110 Pengantar Teknologi Multimedia    3   74.0     B    3.0  "
      ]
     },
     "execution_count": 28,
     "metadata": {},
     "output_type": "execute_result"
    }
   ],
   "source": [
    "df.head()"
   ]
  },
  {
   "cell_type": "code",
   "execution_count": 29,
   "metadata": {},
   "outputs": [],
   "source": [
    "df.reset_index(inplace = True)"
   ]
  },
  {
   "cell_type": "code",
   "execution_count": 30,
   "metadata": {},
   "outputs": [],
   "source": [
    "# creating 'nilai_akhir' feature where it is the value of sks * bobot\n",
    "nilai_akhir = []\n",
    "\n",
    "for i in range(df.shape[0]):\n",
    "    nilai_akhir.append(df['SKS'][i] * df['BOBOT'][i])"
   ]
  },
  {
   "cell_type": "code",
   "execution_count": 31,
   "metadata": {},
   "outputs": [],
   "source": [
    "df['NILAI_AKHIR'] = nilai_akhir"
   ]
  },
  {
   "cell_type": "code",
   "execution_count": 33,
   "metadata": {},
   "outputs": [
    {
     "data": {
      "text/html": [
       "<div>\n",
       "<style scoped>\n",
       "    .dataframe tbody tr th:only-of-type {\n",
       "        vertical-align: middle;\n",
       "    }\n",
       "\n",
       "    .dataframe tbody tr th {\n",
       "        vertical-align: top;\n",
       "    }\n",
       "\n",
       "    .dataframe thead th {\n",
       "        text-align: right;\n",
       "    }\n",
       "</style>\n",
       "<table border=\"1\" class=\"dataframe\">\n",
       "  <thead>\n",
       "    <tr style=\"text-align: right;\">\n",
       "      <th></th>\n",
       "      <th>index</th>\n",
       "      <th>NIM</th>\n",
       "      <th>ANGKATAN</th>\n",
       "      <th>SEMESTER</th>\n",
       "      <th>KODE_MK</th>\n",
       "      <th>NAMA_MK</th>\n",
       "      <th>SKS</th>\n",
       "      <th>NILAI</th>\n",
       "      <th>GRADE</th>\n",
       "      <th>BOBOT</th>\n",
       "      <th>NILAI_AKHIR</th>\n",
       "    </tr>\n",
       "  </thead>\n",
       "  <tbody>\n",
       "    <tr>\n",
       "      <th>0</th>\n",
       "      <td>0</td>\n",
       "      <td>10110310002</td>\n",
       "      <td>2010</td>\n",
       "      <td>1011</td>\n",
       "      <td>EM100</td>\n",
       "      <td>EM100 Dasar-dasar Bisnis</td>\n",
       "      <td>3</td>\n",
       "      <td>57.0</td>\n",
       "      <td>C</td>\n",
       "      <td>2.0</td>\n",
       "      <td>6.0</td>\n",
       "    </tr>\n",
       "    <tr>\n",
       "      <th>1</th>\n",
       "      <td>1</td>\n",
       "      <td>10110310002</td>\n",
       "      <td>2010</td>\n",
       "      <td>1011</td>\n",
       "      <td>EM180</td>\n",
       "      <td>EM180 Matematika Bisnis</td>\n",
       "      <td>3</td>\n",
       "      <td>70.0</td>\n",
       "      <td>B</td>\n",
       "      <td>3.0</td>\n",
       "      <td>9.0</td>\n",
       "    </tr>\n",
       "    <tr>\n",
       "      <th>2</th>\n",
       "      <td>2</td>\n",
       "      <td>10110310002</td>\n",
       "      <td>2010</td>\n",
       "      <td>1011</td>\n",
       "      <td>TI100</td>\n",
       "      <td>TI100 Algoritma dan Pemrograman</td>\n",
       "      <td>4</td>\n",
       "      <td>57.0</td>\n",
       "      <td>C</td>\n",
       "      <td>2.0</td>\n",
       "      <td>8.0</td>\n",
       "    </tr>\n",
       "    <tr>\n",
       "      <th>3</th>\n",
       "      <td>3</td>\n",
       "      <td>10110310002</td>\n",
       "      <td>2010</td>\n",
       "      <td>1011</td>\n",
       "      <td>TI101</td>\n",
       "      <td>TI101 Matematika Diskrit</td>\n",
       "      <td>3</td>\n",
       "      <td>59.0</td>\n",
       "      <td>C</td>\n",
       "      <td>2.0</td>\n",
       "      <td>6.0</td>\n",
       "    </tr>\n",
       "    <tr>\n",
       "      <th>4</th>\n",
       "      <td>4</td>\n",
       "      <td>10110310002</td>\n",
       "      <td>2010</td>\n",
       "      <td>1011</td>\n",
       "      <td>TI110</td>\n",
       "      <td>TI110 Pengantar Teknologi Multimedia</td>\n",
       "      <td>3</td>\n",
       "      <td>74.0</td>\n",
       "      <td>B</td>\n",
       "      <td>3.0</td>\n",
       "      <td>9.0</td>\n",
       "    </tr>\n",
       "  </tbody>\n",
       "</table>\n",
       "</div>"
      ],
      "text/plain": [
       "   index          NIM ANGKATAN SEMESTER KODE_MK  \\\n",
       "0      0  10110310002     2010     1011   EM100   \n",
       "1      1  10110310002     2010     1011   EM180   \n",
       "2      2  10110310002     2010     1011   TI100   \n",
       "3      3  10110310002     2010     1011   TI101   \n",
       "4      4  10110310002     2010     1011   TI110   \n",
       "\n",
       "                                NAMA_MK  SKS  NILAI GRADE  BOBOT  NILAI_AKHIR  \n",
       "0              EM100 Dasar-dasar Bisnis    3   57.0     C    2.0          6.0  \n",
       "1               EM180 Matematika Bisnis    3   70.0     B    3.0          9.0  \n",
       "2       TI100 Algoritma dan Pemrograman    4   57.0     C    2.0          8.0  \n",
       "3              TI101 Matematika Diskrit    3   59.0     C    2.0          6.0  \n",
       "4  TI110 Pengantar Teknologi Multimedia    3   74.0     B    3.0          9.0  "
      ]
     },
     "execution_count": 33,
     "metadata": {},
     "output_type": "execute_result"
    }
   ],
   "source": [
    "df.head()"
   ]
  },
  {
   "cell_type": "code",
   "execution_count": 34,
   "metadata": {},
   "outputs": [],
   "source": [
    "# we are going to calculate the IPS of each student\n",
    "df_num = df.drop(['KODE_MK','NAMA_MK','NILAI','GRADE','index'],axis = 1)"
   ]
  },
  {
   "cell_type": "code",
   "execution_count": 35,
   "metadata": {},
   "outputs": [],
   "source": [
    "df_num = df_num.groupby(['NIM','SEMESTER']).sum().reset_index()"
   ]
  },
  {
   "cell_type": "code",
   "execution_count": 36,
   "metadata": {},
   "outputs": [
    {
     "data": {
      "text/html": [
       "<div>\n",
       "<style scoped>\n",
       "    .dataframe tbody tr th:only-of-type {\n",
       "        vertical-align: middle;\n",
       "    }\n",
       "\n",
       "    .dataframe tbody tr th {\n",
       "        vertical-align: top;\n",
       "    }\n",
       "\n",
       "    .dataframe thead th {\n",
       "        text-align: right;\n",
       "    }\n",
       "</style>\n",
       "<table border=\"1\" class=\"dataframe\">\n",
       "  <thead>\n",
       "    <tr style=\"text-align: right;\">\n",
       "      <th></th>\n",
       "      <th>NIM</th>\n",
       "      <th>SEMESTER</th>\n",
       "      <th>ANGKATAN</th>\n",
       "      <th>SKS</th>\n",
       "      <th>BOBOT</th>\n",
       "      <th>NILAI_AKHIR</th>\n",
       "    </tr>\n",
       "  </thead>\n",
       "  <tbody>\n",
       "    <tr>\n",
       "      <th>0</th>\n",
       "      <td>10110310002</td>\n",
       "      <td>1011</td>\n",
       "      <td>2010201020102010201020102010</td>\n",
       "      <td>21</td>\n",
       "      <td>17.0</td>\n",
       "      <td>51.0</td>\n",
       "    </tr>\n",
       "    <tr>\n",
       "      <th>1</th>\n",
       "      <td>10110310002</td>\n",
       "      <td>1021</td>\n",
       "      <td>20102010201020102010201020102010</td>\n",
       "      <td>21</td>\n",
       "      <td>19.0</td>\n",
       "      <td>50.0</td>\n",
       "    </tr>\n",
       "    <tr>\n",
       "      <th>2</th>\n",
       "      <td>10110310002</td>\n",
       "      <td>1111</td>\n",
       "      <td>201020102010201020102010</td>\n",
       "      <td>15</td>\n",
       "      <td>20.0</td>\n",
       "      <td>50.0</td>\n",
       "    </tr>\n",
       "    <tr>\n",
       "      <th>3</th>\n",
       "      <td>10110310002</td>\n",
       "      <td>1121</td>\n",
       "      <td>201020102010201020102010</td>\n",
       "      <td>18</td>\n",
       "      <td>16.0</td>\n",
       "      <td>46.0</td>\n",
       "    </tr>\n",
       "    <tr>\n",
       "      <th>4</th>\n",
       "      <td>10110310002</td>\n",
       "      <td>1211</td>\n",
       "      <td>2010201020102010201020102010</td>\n",
       "      <td>21</td>\n",
       "      <td>19.0</td>\n",
       "      <td>57.0</td>\n",
       "    </tr>\n",
       "  </tbody>\n",
       "</table>\n",
       "</div>"
      ],
      "text/plain": [
       "           NIM SEMESTER                          ANGKATAN  SKS  BOBOT  \\\n",
       "0  10110310002     1011      2010201020102010201020102010   21   17.0   \n",
       "1  10110310002     1021  20102010201020102010201020102010   21   19.0   \n",
       "2  10110310002     1111          201020102010201020102010   15   20.0   \n",
       "3  10110310002     1121          201020102010201020102010   18   16.0   \n",
       "4  10110310002     1211      2010201020102010201020102010   21   19.0   \n",
       "\n",
       "   NILAI_AKHIR  \n",
       "0         51.0  \n",
       "1         50.0  \n",
       "2         50.0  \n",
       "3         46.0  \n",
       "4         57.0  "
      ]
     },
     "execution_count": 36,
     "metadata": {},
     "output_type": "execute_result"
    }
   ],
   "source": [
    "df_num.head()"
   ]
  },
  {
   "cell_type": "code",
   "execution_count": 37,
   "metadata": {},
   "outputs": [],
   "source": [
    "# calculating IPS by dividing NILAI_AKHIR with SKS\n",
    "ips = []\n",
    "for i in range(df_num.shape[0]):\n",
    "    ips.append(df_num['NILAI_AKHIR'][i] / df_num['SKS'][i])"
   ]
  },
  {
   "cell_type": "code",
   "execution_count": 38,
   "metadata": {},
   "outputs": [],
   "source": [
    "df_num['IPS'] = ips"
   ]
  },
  {
   "cell_type": "code",
   "execution_count": 39,
   "metadata": {},
   "outputs": [
    {
     "data": {
      "text/html": [
       "<div>\n",
       "<style scoped>\n",
       "    .dataframe tbody tr th:only-of-type {\n",
       "        vertical-align: middle;\n",
       "    }\n",
       "\n",
       "    .dataframe tbody tr th {\n",
       "        vertical-align: top;\n",
       "    }\n",
       "\n",
       "    .dataframe thead th {\n",
       "        text-align: right;\n",
       "    }\n",
       "</style>\n",
       "<table border=\"1\" class=\"dataframe\">\n",
       "  <thead>\n",
       "    <tr style=\"text-align: right;\">\n",
       "      <th></th>\n",
       "      <th>NIM</th>\n",
       "      <th>SEMESTER</th>\n",
       "      <th>ANGKATAN</th>\n",
       "      <th>SKS</th>\n",
       "      <th>BOBOT</th>\n",
       "      <th>NILAI_AKHIR</th>\n",
       "      <th>IPS</th>\n",
       "    </tr>\n",
       "  </thead>\n",
       "  <tbody>\n",
       "    <tr>\n",
       "      <th>0</th>\n",
       "      <td>10110310002</td>\n",
       "      <td>1011</td>\n",
       "      <td>2010201020102010201020102010</td>\n",
       "      <td>21</td>\n",
       "      <td>17.0</td>\n",
       "      <td>51.0</td>\n",
       "      <td>2.428571</td>\n",
       "    </tr>\n",
       "    <tr>\n",
       "      <th>1</th>\n",
       "      <td>10110310002</td>\n",
       "      <td>1021</td>\n",
       "      <td>20102010201020102010201020102010</td>\n",
       "      <td>21</td>\n",
       "      <td>19.0</td>\n",
       "      <td>50.0</td>\n",
       "      <td>2.380952</td>\n",
       "    </tr>\n",
       "    <tr>\n",
       "      <th>2</th>\n",
       "      <td>10110310002</td>\n",
       "      <td>1111</td>\n",
       "      <td>201020102010201020102010</td>\n",
       "      <td>15</td>\n",
       "      <td>20.0</td>\n",
       "      <td>50.0</td>\n",
       "      <td>3.333333</td>\n",
       "    </tr>\n",
       "    <tr>\n",
       "      <th>3</th>\n",
       "      <td>10110310002</td>\n",
       "      <td>1121</td>\n",
       "      <td>201020102010201020102010</td>\n",
       "      <td>18</td>\n",
       "      <td>16.0</td>\n",
       "      <td>46.0</td>\n",
       "      <td>2.555556</td>\n",
       "    </tr>\n",
       "    <tr>\n",
       "      <th>4</th>\n",
       "      <td>10110310002</td>\n",
       "      <td>1211</td>\n",
       "      <td>2010201020102010201020102010</td>\n",
       "      <td>21</td>\n",
       "      <td>19.0</td>\n",
       "      <td>57.0</td>\n",
       "      <td>2.714286</td>\n",
       "    </tr>\n",
       "  </tbody>\n",
       "</table>\n",
       "</div>"
      ],
      "text/plain": [
       "           NIM SEMESTER                          ANGKATAN  SKS  BOBOT  \\\n",
       "0  10110310002     1011      2010201020102010201020102010   21   17.0   \n",
       "1  10110310002     1021  20102010201020102010201020102010   21   19.0   \n",
       "2  10110310002     1111          201020102010201020102010   15   20.0   \n",
       "3  10110310002     1121          201020102010201020102010   18   16.0   \n",
       "4  10110310002     1211      2010201020102010201020102010   21   19.0   \n",
       "\n",
       "   NILAI_AKHIR       IPS  \n",
       "0         51.0  2.428571  \n",
       "1         50.0  2.380952  \n",
       "2         50.0  3.333333  \n",
       "3         46.0  2.555556  \n",
       "4         57.0  2.714286  "
      ]
     },
     "execution_count": 39,
     "metadata": {},
     "output_type": "execute_result"
    }
   ],
   "source": [
    "df_num.head()"
   ]
  },
  {
   "cell_type": "code",
   "execution_count": 40,
   "metadata": {},
   "outputs": [],
   "source": [
    "# next we are going to count how many semester does each student have\n",
    "student = df_num['NIM'].unique()\n",
    "num_sem = []\n",
    "\n",
    "for stud in student:\n",
    "    st = df_num[df_num['NIM'] == stud]\n",
    "    st_sem = st['SEMESTER'].unique()\n",
    "    num_sem.append(len(st_sem))"
   ]
  },
  {
   "cell_type": "code",
   "execution_count": 41,
   "metadata": {},
   "outputs": [],
   "source": [
    "df_num = df_num.drop('ANGKATAN',axis = 1)"
   ]
  },
  {
   "cell_type": "code",
   "execution_count": 42,
   "metadata": {},
   "outputs": [],
   "source": [
    "df_num = df_num.groupby('NIM').sum().reset_index()"
   ]
  },
  {
   "cell_type": "code",
   "execution_count": 43,
   "metadata": {},
   "outputs": [
    {
     "data": {
      "text/html": [
       "<div>\n",
       "<style scoped>\n",
       "    .dataframe tbody tr th:only-of-type {\n",
       "        vertical-align: middle;\n",
       "    }\n",
       "\n",
       "    .dataframe tbody tr th {\n",
       "        vertical-align: top;\n",
       "    }\n",
       "\n",
       "    .dataframe thead th {\n",
       "        text-align: right;\n",
       "    }\n",
       "</style>\n",
       "<table border=\"1\" class=\"dataframe\">\n",
       "  <thead>\n",
       "    <tr style=\"text-align: right;\">\n",
       "      <th></th>\n",
       "      <th>NIM</th>\n",
       "      <th>SEMESTER</th>\n",
       "      <th>SKS</th>\n",
       "      <th>BOBOT</th>\n",
       "      <th>NILAI_AKHIR</th>\n",
       "      <th>IPS</th>\n",
       "    </tr>\n",
       "  </thead>\n",
       "  <tbody>\n",
       "    <tr>\n",
       "      <th>0</th>\n",
       "      <td>10110310002</td>\n",
       "      <td>101110211111112112111221131113211322</td>\n",
       "      <td>145</td>\n",
       "      <td>140.0</td>\n",
       "      <td>417.0</td>\n",
       "      <td>25.046627</td>\n",
       "    </tr>\n",
       "    <tr>\n",
       "      <th>1</th>\n",
       "      <td>10110310004</td>\n",
       "      <td>101110211111112111221211122112221311132114111421</td>\n",
       "      <td>145</td>\n",
       "      <td>146.3</td>\n",
       "      <td>420.6</td>\n",
       "      <td>35.804711</td>\n",
       "    </tr>\n",
       "    <tr>\n",
       "      <th>2</th>\n",
       "      <td>10110310005</td>\n",
       "      <td>10111021111111211211122113111321</td>\n",
       "      <td>145</td>\n",
       "      <td>181.0</td>\n",
       "      <td>538.0</td>\n",
       "      <td>29.824176</td>\n",
       "    </tr>\n",
       "    <tr>\n",
       "      <th>3</th>\n",
       "      <td>10110310006</td>\n",
       "      <td>10111021111111211211122113111321</td>\n",
       "      <td>145</td>\n",
       "      <td>144.0</td>\n",
       "      <td>428.0</td>\n",
       "      <td>24.586081</td>\n",
       "    </tr>\n",
       "    <tr>\n",
       "      <th>4</th>\n",
       "      <td>10110310007</td>\n",
       "      <td>10111021111111211211122113111321</td>\n",
       "      <td>145</td>\n",
       "      <td>139.0</td>\n",
       "      <td>414.0</td>\n",
       "      <td>22.983135</td>\n",
       "    </tr>\n",
       "  </tbody>\n",
       "</table>\n",
       "</div>"
      ],
      "text/plain": [
       "           NIM                                          SEMESTER  SKS  BOBOT  \\\n",
       "0  10110310002              101110211111112112111221131113211322  145  140.0   \n",
       "1  10110310004  101110211111112111221211122112221311132114111421  145  146.3   \n",
       "2  10110310005                  10111021111111211211122113111321  145  181.0   \n",
       "3  10110310006                  10111021111111211211122113111321  145  144.0   \n",
       "4  10110310007                  10111021111111211211122113111321  145  139.0   \n",
       "\n",
       "   NILAI_AKHIR        IPS  \n",
       "0        417.0  25.046627  \n",
       "1        420.6  35.804711  \n",
       "2        538.0  29.824176  \n",
       "3        428.0  24.586081  \n",
       "4        414.0  22.983135  "
      ]
     },
     "execution_count": 43,
     "metadata": {},
     "output_type": "execute_result"
    }
   ],
   "source": [
    "df_num.head()"
   ]
  },
  {
   "cell_type": "code",
   "execution_count": 44,
   "metadata": {},
   "outputs": [],
   "source": [
    "# calculating IPK by dividing IPS and num_sem value correspond to NIM\n",
    "\n",
    "ipk = []\n",
    "for i in range(df_num.shape[0]):\n",
    "    ipk.append(df_num['IPS'][i] / num_sem[i])"
   ]
  },
  {
   "cell_type": "code",
   "execution_count": 45,
   "metadata": {},
   "outputs": [],
   "source": [
    "df_num['IPK'] = ipk"
   ]
  },
  {
   "cell_type": "code",
   "execution_count": 46,
   "metadata": {},
   "outputs": [
    {
     "data": {
      "text/html": [
       "<div>\n",
       "<style scoped>\n",
       "    .dataframe tbody tr th:only-of-type {\n",
       "        vertical-align: middle;\n",
       "    }\n",
       "\n",
       "    .dataframe tbody tr th {\n",
       "        vertical-align: top;\n",
       "    }\n",
       "\n",
       "    .dataframe thead th {\n",
       "        text-align: right;\n",
       "    }\n",
       "</style>\n",
       "<table border=\"1\" class=\"dataframe\">\n",
       "  <thead>\n",
       "    <tr style=\"text-align: right;\">\n",
       "      <th></th>\n",
       "      <th>NIM</th>\n",
       "      <th>SEMESTER</th>\n",
       "      <th>SKS</th>\n",
       "      <th>BOBOT</th>\n",
       "      <th>NILAI_AKHIR</th>\n",
       "      <th>IPS</th>\n",
       "      <th>IPK</th>\n",
       "    </tr>\n",
       "  </thead>\n",
       "  <tbody>\n",
       "    <tr>\n",
       "      <th>0</th>\n",
       "      <td>10110310002</td>\n",
       "      <td>101110211111112112111221131113211322</td>\n",
       "      <td>145</td>\n",
       "      <td>140.0</td>\n",
       "      <td>417.0</td>\n",
       "      <td>25.046627</td>\n",
       "      <td>2.782959</td>\n",
       "    </tr>\n",
       "    <tr>\n",
       "      <th>1</th>\n",
       "      <td>10110310004</td>\n",
       "      <td>101110211111112111221211122112221311132114111421</td>\n",
       "      <td>145</td>\n",
       "      <td>146.3</td>\n",
       "      <td>420.6</td>\n",
       "      <td>35.804711</td>\n",
       "      <td>2.983726</td>\n",
       "    </tr>\n",
       "    <tr>\n",
       "      <th>2</th>\n",
       "      <td>10110310005</td>\n",
       "      <td>10111021111111211211122113111321</td>\n",
       "      <td>145</td>\n",
       "      <td>181.0</td>\n",
       "      <td>538.0</td>\n",
       "      <td>29.824176</td>\n",
       "      <td>3.728022</td>\n",
       "    </tr>\n",
       "    <tr>\n",
       "      <th>3</th>\n",
       "      <td>10110310006</td>\n",
       "      <td>10111021111111211211122113111321</td>\n",
       "      <td>145</td>\n",
       "      <td>144.0</td>\n",
       "      <td>428.0</td>\n",
       "      <td>24.586081</td>\n",
       "      <td>3.073260</td>\n",
       "    </tr>\n",
       "    <tr>\n",
       "      <th>4</th>\n",
       "      <td>10110310007</td>\n",
       "      <td>10111021111111211211122113111321</td>\n",
       "      <td>145</td>\n",
       "      <td>139.0</td>\n",
       "      <td>414.0</td>\n",
       "      <td>22.983135</td>\n",
       "      <td>2.872892</td>\n",
       "    </tr>\n",
       "  </tbody>\n",
       "</table>\n",
       "</div>"
      ],
      "text/plain": [
       "           NIM                                          SEMESTER  SKS  BOBOT  \\\n",
       "0  10110310002              101110211111112112111221131113211322  145  140.0   \n",
       "1  10110310004  101110211111112111221211122112221311132114111421  145  146.3   \n",
       "2  10110310005                  10111021111111211211122113111321  145  181.0   \n",
       "3  10110310006                  10111021111111211211122113111321  145  144.0   \n",
       "4  10110310007                  10111021111111211211122113111321  145  139.0   \n",
       "\n",
       "   NILAI_AKHIR        IPS       IPK  \n",
       "0        417.0  25.046627  2.782959  \n",
       "1        420.6  35.804711  2.983726  \n",
       "2        538.0  29.824176  3.728022  \n",
       "3        428.0  24.586081  3.073260  \n",
       "4        414.0  22.983135  2.872892  "
      ]
     },
     "execution_count": 46,
     "metadata": {},
     "output_type": "execute_result"
    }
   ],
   "source": [
    "df_num.head()"
   ]
  },
  {
   "cell_type": "code",
   "execution_count": 47,
   "metadata": {},
   "outputs": [
    {
     "data": {
      "text/html": [
       "<div>\n",
       "<style scoped>\n",
       "    .dataframe tbody tr th:only-of-type {\n",
       "        vertical-align: middle;\n",
       "    }\n",
       "\n",
       "    .dataframe tbody tr th {\n",
       "        vertical-align: top;\n",
       "    }\n",
       "\n",
       "    .dataframe thead th {\n",
       "        text-align: right;\n",
       "    }\n",
       "</style>\n",
       "<table border=\"1\" class=\"dataframe\">\n",
       "  <thead>\n",
       "    <tr style=\"text-align: right;\">\n",
       "      <th></th>\n",
       "      <th>SKS</th>\n",
       "      <th>BOBOT</th>\n",
       "      <th>NILAI_AKHIR</th>\n",
       "      <th>IPS</th>\n",
       "      <th>IPK</th>\n",
       "    </tr>\n",
       "  </thead>\n",
       "  <tbody>\n",
       "    <tr>\n",
       "      <th>count</th>\n",
       "      <td>770.000000</td>\n",
       "      <td>770.000000</td>\n",
       "      <td>770.000000</td>\n",
       "      <td>770.000000</td>\n",
       "      <td>770.000000</td>\n",
       "    </tr>\n",
       "    <tr>\n",
       "      <th>mean</th>\n",
       "      <td>110.763636</td>\n",
       "      <td>119.271558</td>\n",
       "      <td>337.299610</td>\n",
       "      <td>20.568186</td>\n",
       "      <td>2.949252</td>\n",
       "    </tr>\n",
       "    <tr>\n",
       "      <th>std</th>\n",
       "      <td>41.083773</td>\n",
       "      <td>52.566467</td>\n",
       "      <td>153.349619</td>\n",
       "      <td>9.785640</td>\n",
       "      <td>0.627368</td>\n",
       "    </tr>\n",
       "    <tr>\n",
       "      <th>min</th>\n",
       "      <td>40.000000</td>\n",
       "      <td>0.000000</td>\n",
       "      <td>0.000000</td>\n",
       "      <td>0.000000</td>\n",
       "      <td>0.000000</td>\n",
       "    </tr>\n",
       "    <tr>\n",
       "      <th>25%</th>\n",
       "      <td>82.000000</td>\n",
       "      <td>73.075000</td>\n",
       "      <td>193.625000</td>\n",
       "      <td>12.105202</td>\n",
       "      <td>2.657614</td>\n",
       "    </tr>\n",
       "    <tr>\n",
       "      <th>50%</th>\n",
       "      <td>134.000000</td>\n",
       "      <td>138.500000</td>\n",
       "      <td>395.850000</td>\n",
       "      <td>24.482221</td>\n",
       "      <td>3.072024</td>\n",
       "    </tr>\n",
       "    <tr>\n",
       "      <th>75%</th>\n",
       "      <td>145.000000</td>\n",
       "      <td>162.375000</td>\n",
       "      <td>463.875000</td>\n",
       "      <td>28.199442</td>\n",
       "      <td>3.359666</td>\n",
       "    </tr>\n",
       "    <tr>\n",
       "      <th>max</th>\n",
       "      <td>148.000000</td>\n",
       "      <td>204.600000</td>\n",
       "      <td>580.000000</td>\n",
       "      <td>39.901581</td>\n",
       "      <td>4.000000</td>\n",
       "    </tr>\n",
       "  </tbody>\n",
       "</table>\n",
       "</div>"
      ],
      "text/plain": [
       "              SKS       BOBOT  NILAI_AKHIR         IPS         IPK\n",
       "count  770.000000  770.000000   770.000000  770.000000  770.000000\n",
       "mean   110.763636  119.271558   337.299610   20.568186    2.949252\n",
       "std     41.083773   52.566467   153.349619    9.785640    0.627368\n",
       "min     40.000000    0.000000     0.000000    0.000000    0.000000\n",
       "25%     82.000000   73.075000   193.625000   12.105202    2.657614\n",
       "50%    134.000000  138.500000   395.850000   24.482221    3.072024\n",
       "75%    145.000000  162.375000   463.875000   28.199442    3.359666\n",
       "max    148.000000  204.600000   580.000000   39.901581    4.000000"
      ]
     },
     "execution_count": 47,
     "metadata": {},
     "output_type": "execute_result"
    }
   ],
   "source": [
    "df_num.describe()"
   ]
  },
  {
   "cell_type": "code",
   "execution_count": 48,
   "metadata": {},
   "outputs": [],
   "source": [
    "df_num = df_num.drop('SEMESTER',axis = 1)"
   ]
  },
  {
   "cell_type": "code",
   "execution_count": 49,
   "metadata": {},
   "outputs": [
    {
     "data": {
      "text/html": [
       "<div>\n",
       "<style scoped>\n",
       "    .dataframe tbody tr th:only-of-type {\n",
       "        vertical-align: middle;\n",
       "    }\n",
       "\n",
       "    .dataframe tbody tr th {\n",
       "        vertical-align: top;\n",
       "    }\n",
       "\n",
       "    .dataframe thead th {\n",
       "        text-align: right;\n",
       "    }\n",
       "</style>\n",
       "<table border=\"1\" class=\"dataframe\">\n",
       "  <thead>\n",
       "    <tr style=\"text-align: right;\">\n",
       "      <th></th>\n",
       "      <th>NIM</th>\n",
       "      <th>SKS</th>\n",
       "      <th>BOBOT</th>\n",
       "      <th>NILAI_AKHIR</th>\n",
       "      <th>IPS</th>\n",
       "      <th>IPK</th>\n",
       "    </tr>\n",
       "  </thead>\n",
       "  <tbody>\n",
       "    <tr>\n",
       "      <th>0</th>\n",
       "      <td>10110310002</td>\n",
       "      <td>145</td>\n",
       "      <td>140.0</td>\n",
       "      <td>417.0</td>\n",
       "      <td>25.046627</td>\n",
       "      <td>2.782959</td>\n",
       "    </tr>\n",
       "    <tr>\n",
       "      <th>1</th>\n",
       "      <td>10110310004</td>\n",
       "      <td>145</td>\n",
       "      <td>146.3</td>\n",
       "      <td>420.6</td>\n",
       "      <td>35.804711</td>\n",
       "      <td>2.983726</td>\n",
       "    </tr>\n",
       "    <tr>\n",
       "      <th>2</th>\n",
       "      <td>10110310005</td>\n",
       "      <td>145</td>\n",
       "      <td>181.0</td>\n",
       "      <td>538.0</td>\n",
       "      <td>29.824176</td>\n",
       "      <td>3.728022</td>\n",
       "    </tr>\n",
       "    <tr>\n",
       "      <th>3</th>\n",
       "      <td>10110310006</td>\n",
       "      <td>145</td>\n",
       "      <td>144.0</td>\n",
       "      <td>428.0</td>\n",
       "      <td>24.586081</td>\n",
       "      <td>3.073260</td>\n",
       "    </tr>\n",
       "    <tr>\n",
       "      <th>4</th>\n",
       "      <td>10110310007</td>\n",
       "      <td>145</td>\n",
       "      <td>139.0</td>\n",
       "      <td>414.0</td>\n",
       "      <td>22.983135</td>\n",
       "      <td>2.872892</td>\n",
       "    </tr>\n",
       "  </tbody>\n",
       "</table>\n",
       "</div>"
      ],
      "text/plain": [
       "           NIM  SKS  BOBOT  NILAI_AKHIR        IPS       IPK\n",
       "0  10110310002  145  140.0        417.0  25.046627  2.782959\n",
       "1  10110310004  145  146.3        420.6  35.804711  2.983726\n",
       "2  10110310005  145  181.0        538.0  29.824176  3.728022\n",
       "3  10110310006  145  144.0        428.0  24.586081  3.073260\n",
       "4  10110310007  145  139.0        414.0  22.983135  2.872892"
      ]
     },
     "execution_count": 49,
     "metadata": {},
     "output_type": "execute_result"
    }
   ],
   "source": [
    "df_num.head()"
   ]
  },
  {
   "cell_type": "markdown",
   "metadata": {},
   "source": [
    "Requirement for Graduatin :\n",
    "   - Completed atleast 144 SKS\n",
    "   - There are no D ,E , and F grade\n",
    "   - IPK is greater than 2.5"
   ]
  },
  {
   "cell_type": "code",
   "execution_count": 78,
   "metadata": {},
   "outputs": [],
   "source": [
    "# we will select the student that has sks >= 144 and ipk >= 2.5\n",
    "df_144 = df_num[(df_num['SKS'] >= 144) & (df_num['IPK'] >= 2.5)]\n",
    "df_144.reset_index(inplace = True)"
   ]
  },
  {
   "cell_type": "code",
   "execution_count": 72,
   "metadata": {},
   "outputs": [],
   "source": [
    "df_grade = df[(df['GRADE'] != 'D') & (df['GRADE'] != 'F') & (df['GRADE'] != 'E')]"
   ]
  },
  {
   "cell_type": "code",
   "execution_count": 83,
   "metadata": {},
   "outputs": [],
   "source": [
    "df_grade.reset_index(inplace = True)"
   ]
  },
  {
   "cell_type": "code",
   "execution_count": 95,
   "metadata": {},
   "outputs": [],
   "source": [
    "df_grade = df_grade.groupby('NIM').sum().drop(['ANGKATAN','SEMESTER','KODE_MK','NAMA_MK','level_0','index','GRADE'],axis = 1).reset_index()"
   ]
  },
  {
   "cell_type": "code",
   "execution_count": 96,
   "metadata": {},
   "outputs": [],
   "source": [
    "# we will find the intersection between students who have sks >= 144 and ipk >= 144 with student that doesnt have D,E, and F grade\n",
    "intersection = []\n",
    "for i in range(len(df_grade['NIM'].unique())):\n",
    "    for j in range(len(df_144['NIM'].unique())):\n",
    "        if df_grade['NIM'][i] == df_144['NIM'][j]:\n",
    "            intersection.append(df_grade['NIM'][i])"
   ]
  },
  {
   "cell_type": "code",
   "execution_count": 97,
   "metadata": {},
   "outputs": [
    {
     "data": {
      "text/plain": [
       "351"
      ]
     },
     "execution_count": 97,
     "metadata": {},
     "output_type": "execute_result"
    }
   ],
   "source": [
    "len(intersection)"
   ]
  },
  {
   "cell_type": "code",
   "execution_count": 98,
   "metadata": {},
   "outputs": [
    {
     "data": {
      "text/plain": [
       "765"
      ]
     },
     "execution_count": 98,
     "metadata": {},
     "output_type": "execute_result"
    }
   ],
   "source": [
    "len(df_grade['NIM'].unique())"
   ]
  },
  {
   "cell_type": "code",
   "execution_count": 99,
   "metadata": {},
   "outputs": [
    {
     "data": {
      "text/plain": [
       "351"
      ]
     },
     "execution_count": 99,
     "metadata": {},
     "output_type": "execute_result"
    }
   ],
   "source": [
    "len(df_144['NIM'].unique())"
   ]
  },
  {
   "cell_type": "code",
   "execution_count": 107,
   "metadata": {},
   "outputs": [],
   "source": [
    "df_144 = df_144.set_index('NIM')"
   ]
  },
  {
   "cell_type": "code",
   "execution_count": 116,
   "metadata": {},
   "outputs": [],
   "source": [
    "df_144.reset_index(inplace = True)"
   ]
  },
  {
   "cell_type": "code",
   "execution_count": 123,
   "metadata": {},
   "outputs": [
    {
     "data": {
      "text/plain": [
       "<bound method NDFrame.tail of               NIM  index  SKS  BOBOT  NILAI_AKHIR        IPS       IPK\n",
       "0     10110310002      0  145  140.0        417.0  25.046627  2.782959\n",
       "1     10110310004      1  145  146.3        420.6  35.804711  2.983726\n",
       "2     10110310005      2  145  181.0        538.0  29.824176  3.728022\n",
       "3     10110310006      3  145  144.0        428.0  24.586081  3.073260\n",
       "4     10110310007      4  145  139.0        414.0  22.983135  2.872892\n",
       "..            ...    ...  ...    ...          ...        ...       ...\n",
       "346  151103112265    424  145  174.5        498.0  27.897121  3.487140\n",
       "347  151103112381    425  145  168.2        479.8  26.897756  3.362219\n",
       "348  151103112575    431  145  182.2        520.2  29.053816  3.631727\n",
       "349  151103112700    432  145  178.5        509.7  28.405102  3.550638\n",
       "350  151103112724    433  146  162.8        466.2  28.453387  3.161487\n",
       "\n",
       "[351 rows x 7 columns]>"
      ]
     },
     "execution_count": 123,
     "metadata": {},
     "output_type": "execute_result"
    }
   ],
   "source": [
    "df_144.tail"
   ]
  },
  {
   "cell_type": "code",
   "execution_count": 115,
   "metadata": {},
   "outputs": [],
   "source": [
    "# checking if intersectoin array is equal to student of df_144\n",
    "def areEqual(X,Y,m,n):\n",
    "    if m != n:\n",
    "        return False\n",
    "    else:\n",
    "        for i in range(m):\n",
    "            if X[m] != Y[m]:\n",
    "                return False\n",
    "    return True"
   ]
  },
  {
   "cell_type": "code",
   "execution_count": 127,
   "metadata": {},
   "outputs": [
    {
     "name": "stdout",
     "output_type": "stream",
     "text": [
      "True\n"
     ]
    }
   ],
   "source": [
    "# since both array are equal then the student on df_144 doesnt have any D,E,F grade\n",
    "\n",
    "X = df_144['NIM'].unique()\n",
    "Y = intersection\n",
    "m = len(X)-1\n",
    "n = len(Y)-1\n",
    "\n",
    "print(areEqual(X,Y,m,n))"
   ]
  },
  {
   "cell_type": "code",
   "execution_count": 128,
   "metadata": {},
   "outputs": [],
   "source": [
    "def check(X,df):\n",
    "    if X in df['NIM'].unique():\n",
    "        return True\n",
    "    else:\n",
    "        return False"
   ]
  },
  {
   "cell_type": "code",
   "execution_count": 135,
   "metadata": {},
   "outputs": [],
   "source": [
    "# we are going to create 'lulus' feature which will value 1 if the student met the criteria of graduating and 0 otherwise\n",
    "df_num['LULUS'] = df_num['NIM'].apply(lambda x: 1 if check(x,df_144) == True else 0)"
   ]
  },
  {
   "cell_type": "code",
   "execution_count": 136,
   "metadata": {},
   "outputs": [
    {
     "data": {
      "text/html": [
       "<div>\n",
       "<style scoped>\n",
       "    .dataframe tbody tr th:only-of-type {\n",
       "        vertical-align: middle;\n",
       "    }\n",
       "\n",
       "    .dataframe tbody tr th {\n",
       "        vertical-align: top;\n",
       "    }\n",
       "\n",
       "    .dataframe thead th {\n",
       "        text-align: right;\n",
       "    }\n",
       "</style>\n",
       "<table border=\"1\" class=\"dataframe\">\n",
       "  <thead>\n",
       "    <tr style=\"text-align: right;\">\n",
       "      <th></th>\n",
       "      <th>NIM</th>\n",
       "      <th>SKS</th>\n",
       "      <th>BOBOT</th>\n",
       "      <th>NILAI_AKHIR</th>\n",
       "      <th>IPS</th>\n",
       "      <th>IPK</th>\n",
       "      <th>LULUS</th>\n",
       "    </tr>\n",
       "  </thead>\n",
       "  <tbody>\n",
       "    <tr>\n",
       "      <th>0</th>\n",
       "      <td>10110310002</td>\n",
       "      <td>145</td>\n",
       "      <td>140.0</td>\n",
       "      <td>417.0</td>\n",
       "      <td>25.046627</td>\n",
       "      <td>2.782959</td>\n",
       "      <td>1</td>\n",
       "    </tr>\n",
       "    <tr>\n",
       "      <th>1</th>\n",
       "      <td>10110310004</td>\n",
       "      <td>145</td>\n",
       "      <td>146.3</td>\n",
       "      <td>420.6</td>\n",
       "      <td>35.804711</td>\n",
       "      <td>2.983726</td>\n",
       "      <td>1</td>\n",
       "    </tr>\n",
       "    <tr>\n",
       "      <th>2</th>\n",
       "      <td>10110310005</td>\n",
       "      <td>145</td>\n",
       "      <td>181.0</td>\n",
       "      <td>538.0</td>\n",
       "      <td>29.824176</td>\n",
       "      <td>3.728022</td>\n",
       "      <td>1</td>\n",
       "    </tr>\n",
       "    <tr>\n",
       "      <th>3</th>\n",
       "      <td>10110310006</td>\n",
       "      <td>145</td>\n",
       "      <td>144.0</td>\n",
       "      <td>428.0</td>\n",
       "      <td>24.586081</td>\n",
       "      <td>3.073260</td>\n",
       "      <td>1</td>\n",
       "    </tr>\n",
       "    <tr>\n",
       "      <th>4</th>\n",
       "      <td>10110310007</td>\n",
       "      <td>145</td>\n",
       "      <td>139.0</td>\n",
       "      <td>414.0</td>\n",
       "      <td>22.983135</td>\n",
       "      <td>2.872892</td>\n",
       "      <td>1</td>\n",
       "    </tr>\n",
       "    <tr>\n",
       "      <th>...</th>\n",
       "      <td>...</td>\n",
       "      <td>...</td>\n",
       "      <td>...</td>\n",
       "      <td>...</td>\n",
       "      <td>...</td>\n",
       "      <td>...</td>\n",
       "      <td>...</td>\n",
       "    </tr>\n",
       "    <tr>\n",
       "      <th>765</th>\n",
       "      <td>181103133603</td>\n",
       "      <td>40</td>\n",
       "      <td>35.7</td>\n",
       "      <td>98.1</td>\n",
       "      <td>4.905000</td>\n",
       "      <td>2.452500</td>\n",
       "      <td>0</td>\n",
       "    </tr>\n",
       "    <tr>\n",
       "      <th>766</th>\n",
       "      <td>181103133607</td>\n",
       "      <td>40</td>\n",
       "      <td>35.4</td>\n",
       "      <td>99.2</td>\n",
       "      <td>8.160294</td>\n",
       "      <td>2.720098</td>\n",
       "      <td>0</td>\n",
       "    </tr>\n",
       "    <tr>\n",
       "      <th>767</th>\n",
       "      <td>181103133657</td>\n",
       "      <td>40</td>\n",
       "      <td>45.5</td>\n",
       "      <td>127.8</td>\n",
       "      <td>6.390000</td>\n",
       "      <td>3.195000</td>\n",
       "      <td>0</td>\n",
       "    </tr>\n",
       "    <tr>\n",
       "      <th>768</th>\n",
       "      <td>181103133708</td>\n",
       "      <td>40</td>\n",
       "      <td>40.8</td>\n",
       "      <td>114.3</td>\n",
       "      <td>5.715000</td>\n",
       "      <td>2.857500</td>\n",
       "      <td>0</td>\n",
       "    </tr>\n",
       "    <tr>\n",
       "      <th>769</th>\n",
       "      <td>181103133849</td>\n",
       "      <td>40</td>\n",
       "      <td>13.0</td>\n",
       "      <td>33.0</td>\n",
       "      <td>1.650000</td>\n",
       "      <td>0.825000</td>\n",
       "      <td>0</td>\n",
       "    </tr>\n",
       "  </tbody>\n",
       "</table>\n",
       "<p>770 rows × 7 columns</p>\n",
       "</div>"
      ],
      "text/plain": [
       "              NIM  SKS  BOBOT  NILAI_AKHIR        IPS       IPK  LULUS\n",
       "0     10110310002  145  140.0        417.0  25.046627  2.782959      1\n",
       "1     10110310004  145  146.3        420.6  35.804711  2.983726      1\n",
       "2     10110310005  145  181.0        538.0  29.824176  3.728022      1\n",
       "3     10110310006  145  144.0        428.0  24.586081  3.073260      1\n",
       "4     10110310007  145  139.0        414.0  22.983135  2.872892      1\n",
       "..            ...  ...    ...          ...        ...       ...    ...\n",
       "765  181103133603   40   35.7         98.1   4.905000  2.452500      0\n",
       "766  181103133607   40   35.4         99.2   8.160294  2.720098      0\n",
       "767  181103133657   40   45.5        127.8   6.390000  3.195000      0\n",
       "768  181103133708   40   40.8        114.3   5.715000  2.857500      0\n",
       "769  181103133849   40   13.0         33.0   1.650000  0.825000      0\n",
       "\n",
       "[770 rows x 7 columns]"
      ]
     },
     "execution_count": 136,
     "metadata": {},
     "output_type": "execute_result"
    }
   ],
   "source": [
    "df_num"
   ]
  },
  {
   "cell_type": "markdown",
   "metadata": {},
   "source": [
    "# Model"
   ]
  },
  {
   "cell_type": "code",
   "execution_count": 137,
   "metadata": {},
   "outputs": [],
   "source": [
    "# Train test split\n",
    "from sklearn.model_selection import train_test_split"
   ]
  },
  {
   "cell_type": "code",
   "execution_count": 138,
   "metadata": {},
   "outputs": [],
   "source": [
    "X = df_num.drop(['LULUS','NIM'],axis = 1)\n",
    "y = df_num['LULUS']"
   ]
  },
  {
   "cell_type": "code",
   "execution_count": 139,
   "metadata": {},
   "outputs": [],
   "source": [
    "X_train, X_test, y_train, y_test = train_test_split(X, y, test_size=0.3, random_state=101)"
   ]
  },
  {
   "cell_type": "code",
   "execution_count": 140,
   "metadata": {},
   "outputs": [
    {
     "data": {
      "text/plain": [
       "DecisionTreeClassifier()"
      ]
     },
     "execution_count": 140,
     "metadata": {},
     "output_type": "execute_result"
    }
   ],
   "source": [
    "# Decision Trees\n",
    "from sklearn.tree import DecisionTreeClassifier\n",
    "dtree = DecisionTreeClassifier()\n",
    "dtree.fit(X_train,y_train)"
   ]
  },
  {
   "cell_type": "code",
   "execution_count": 141,
   "metadata": {},
   "outputs": [
    {
     "name": "stdout",
     "output_type": "stream",
     "text": [
      "              precision    recall  f1-score   support\n",
      "\n",
      "           0       1.00      1.00      1.00       122\n",
      "           1       1.00      1.00      1.00       109\n",
      "\n",
      "    accuracy                           1.00       231\n",
      "   macro avg       1.00      1.00      1.00       231\n",
      "weighted avg       1.00      1.00      1.00       231\n",
      "\n",
      "[[122   0]\n",
      " [  0 109]]\n"
     ]
    }
   ],
   "source": [
    "# Prediction and Evaluation\n",
    "predictions = dtree.predict(X_test)\n",
    "\n",
    "\n",
    "from sklearn.metrics import classification_report,confusion_matrix\n",
    "print(classification_report(y_test,predictions))\n",
    "print(confusion_matrix(y_test,predictions))"
   ]
  },
  {
   "cell_type": "code",
   "execution_count": 144,
   "metadata": {},
   "outputs": [
    {
     "data": {
      "text/html": [
       "<div>\n",
       "<style scoped>\n",
       "    .dataframe tbody tr th:only-of-type {\n",
       "        vertical-align: middle;\n",
       "    }\n",
       "\n",
       "    .dataframe tbody tr th {\n",
       "        vertical-align: top;\n",
       "    }\n",
       "\n",
       "    .dataframe thead th {\n",
       "        text-align: right;\n",
       "    }\n",
       "</style>\n",
       "<table border=\"1\" class=\"dataframe\">\n",
       "  <thead>\n",
       "    <tr style=\"text-align: right;\">\n",
       "      <th></th>\n",
       "      <th>SKS</th>\n",
       "      <th>BOBOT</th>\n",
       "      <th>NILAI_AKHIR</th>\n",
       "      <th>IPS</th>\n",
       "      <th>IPK</th>\n",
       "    </tr>\n",
       "  </thead>\n",
       "  <tbody>\n",
       "    <tr>\n",
       "      <th>439</th>\n",
       "      <td>123</td>\n",
       "      <td>172.9</td>\n",
       "      <td>482.7</td>\n",
       "      <td>23.554851</td>\n",
       "      <td>3.925809</td>\n",
       "    </tr>\n",
       "    <tr>\n",
       "      <th>706</th>\n",
       "      <td>40</td>\n",
       "      <td>39.3</td>\n",
       "      <td>108.2</td>\n",
       "      <td>5.410000</td>\n",
       "      <td>2.705000</td>\n",
       "    </tr>\n",
       "    <tr>\n",
       "      <th>201</th>\n",
       "      <td>144</td>\n",
       "      <td>166.6</td>\n",
       "      <td>481.2</td>\n",
       "      <td>26.925769</td>\n",
       "      <td>3.365721</td>\n",
       "    </tr>\n",
       "    <tr>\n",
       "      <th>739</th>\n",
       "      <td>40</td>\n",
       "      <td>27.6</td>\n",
       "      <td>75.8</td>\n",
       "      <td>3.790000</td>\n",
       "      <td>1.895000</td>\n",
       "    </tr>\n",
       "    <tr>\n",
       "      <th>726</th>\n",
       "      <td>40</td>\n",
       "      <td>31.2</td>\n",
       "      <td>86.6</td>\n",
       "      <td>4.330000</td>\n",
       "      <td>2.165000</td>\n",
       "    </tr>\n",
       "    <tr>\n",
       "      <th>...</th>\n",
       "      <td>...</td>\n",
       "      <td>...</td>\n",
       "      <td>...</td>\n",
       "      <td>...</td>\n",
       "      <td>...</td>\n",
       "    </tr>\n",
       "    <tr>\n",
       "      <th>481</th>\n",
       "      <td>121</td>\n",
       "      <td>131.5</td>\n",
       "      <td>368.1</td>\n",
       "      <td>23.951284</td>\n",
       "      <td>2.993911</td>\n",
       "    </tr>\n",
       "    <tr>\n",
       "      <th>62</th>\n",
       "      <td>145</td>\n",
       "      <td>138.4</td>\n",
       "      <td>400.2</td>\n",
       "      <td>32.317440</td>\n",
       "      <td>2.693120</td>\n",
       "    </tr>\n",
       "    <tr>\n",
       "      <th>172</th>\n",
       "      <td>144</td>\n",
       "      <td>156.2</td>\n",
       "      <td>448.2</td>\n",
       "      <td>25.071190</td>\n",
       "      <td>3.133899</td>\n",
       "    </tr>\n",
       "    <tr>\n",
       "      <th>213</th>\n",
       "      <td>144</td>\n",
       "      <td>161.1</td>\n",
       "      <td>463.9</td>\n",
       "      <td>26.635093</td>\n",
       "      <td>3.329387</td>\n",
       "    </tr>\n",
       "    <tr>\n",
       "      <th>111</th>\n",
       "      <td>145</td>\n",
       "      <td>155.1</td>\n",
       "      <td>446.0</td>\n",
       "      <td>26.478877</td>\n",
       "      <td>2.942097</td>\n",
       "    </tr>\n",
       "  </tbody>\n",
       "</table>\n",
       "<p>231 rows × 5 columns</p>\n",
       "</div>"
      ],
      "text/plain": [
       "     SKS  BOBOT  NILAI_AKHIR        IPS       IPK\n",
       "439  123  172.9        482.7  23.554851  3.925809\n",
       "706   40   39.3        108.2   5.410000  2.705000\n",
       "201  144  166.6        481.2  26.925769  3.365721\n",
       "739   40   27.6         75.8   3.790000  1.895000\n",
       "726   40   31.2         86.6   4.330000  2.165000\n",
       "..   ...    ...          ...        ...       ...\n",
       "481  121  131.5        368.1  23.951284  2.993911\n",
       "62   145  138.4        400.2  32.317440  2.693120\n",
       "172  144  156.2        448.2  25.071190  3.133899\n",
       "213  144  161.1        463.9  26.635093  3.329387\n",
       "111  145  155.1        446.0  26.478877  2.942097\n",
       "\n",
       "[231 rows x 5 columns]"
      ]
     },
     "execution_count": 144,
     "metadata": {},
     "output_type": "execute_result"
    }
   ],
   "source": [
    "X_test"
   ]
  },
  {
   "cell_type": "code",
   "execution_count": 145,
   "metadata": {},
   "outputs": [
    {
     "data": {
      "text/plain": [
       "439    0\n",
       "706    0\n",
       "201    1\n",
       "739    0\n",
       "726    0\n",
       "      ..\n",
       "481    0\n",
       "62     1\n",
       "172    1\n",
       "213    1\n",
       "111    1\n",
       "Name: LULUS, Length: 231, dtype: int64"
      ]
     },
     "execution_count": 145,
     "metadata": {},
     "output_type": "execute_result"
    }
   ],
   "source": [
    "y_test"
   ]
  },
  {
   "cell_type": "code",
   "execution_count": 146,
   "metadata": {},
   "outputs": [
    {
     "data": {
      "text/plain": [
       "array([0, 0, 1, 0, 0, 0, 0, 1, 0, 0, 0, 0, 0, 0, 0, 0, 0, 1, 1, 0, 1, 0,\n",
       "       0, 1, 1, 0, 0, 1, 1, 0, 1, 1, 0, 0, 0, 1, 1, 1, 1, 1, 1, 1, 0, 0,\n",
       "       0, 0, 0, 0, 0, 0, 0, 0, 1, 1, 1, 0, 1, 1, 0, 1, 0, 1, 0, 0, 1, 0,\n",
       "       0, 1, 0, 1, 1, 1, 0, 0, 0, 1, 0, 0, 1, 0, 0, 0, 1, 1, 1, 1, 0, 0,\n",
       "       0, 1, 0, 0, 0, 1, 1, 0, 1, 0, 1, 0, 0, 1, 0, 0, 1, 1, 0, 0, 0, 1,\n",
       "       1, 0, 0, 1, 0, 0, 0, 1, 1, 1, 0, 1, 0, 0, 1, 0, 0, 0, 0, 0, 1, 1,\n",
       "       1, 1, 0, 0, 0, 1, 0, 1, 1, 1, 0, 0, 0, 1, 1, 1, 1, 1, 1, 1, 1, 1,\n",
       "       1, 1, 0, 0, 0, 1, 0, 0, 1, 1, 0, 0, 0, 0, 1, 0, 0, 0, 1, 0, 1, 0,\n",
       "       1, 1, 1, 1, 0, 1, 0, 1, 1, 1, 1, 1, 0, 1, 1, 0, 1, 0, 0, 0, 0, 1,\n",
       "       1, 1, 0, 1, 0, 1, 0, 1, 0, 0, 0, 0, 1, 1, 0, 1, 1, 0, 0, 0, 0, 1,\n",
       "       0, 1, 1, 1, 1, 0, 0, 1, 1, 1, 1], dtype=int64)"
      ]
     },
     "execution_count": 146,
     "metadata": {},
     "output_type": "execute_result"
    }
   ],
   "source": [
    "predictions"
   ]
  }
 ],
 "metadata": {
  "kernelspec": {
   "display_name": "Python 3",
   "language": "python",
   "name": "python3"
  },
  "language_info": {
   "codemirror_mode": {
    "name": "ipython",
    "version": 3
   },
   "file_extension": ".py",
   "mimetype": "text/x-python",
   "name": "python",
   "nbconvert_exporter": "python",
   "pygments_lexer": "ipython3",
   "version": "3.8.5"
  }
 },
 "nbformat": 4,
 "nbformat_minor": 4
}
